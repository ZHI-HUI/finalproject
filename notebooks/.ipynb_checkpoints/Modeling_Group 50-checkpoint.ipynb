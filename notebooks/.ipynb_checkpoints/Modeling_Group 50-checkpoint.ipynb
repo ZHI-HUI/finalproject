{
 "cells": [
  {
   "cell_type": "markdown",
   "metadata": {},
   "source": [
    "# CS 109a Final Project - Modeling and Interpretation\n",
    "## Group 50"
   ]
  },
  {
   "cell_type": "markdown",
   "metadata": {},
   "source": [
    "## 0. Import libraries"
   ]
  },
  {
   "cell_type": "code",
   "execution_count": 1,
   "metadata": {
    "collapsed": true
   },
   "outputs": [],
   "source": [
    "import numpy as np\n",
    "import pandas as pd\n",
    "from sklearn.decomposition import PCA\n",
    "from sklearn.linear_model import LogisticRegressionCV\n",
    "from sklearn.linear_model import LogisticRegression\n",
    "from sklearn.model_selection import train_test_split\n",
    "import sklearn.metrics as metrics\n",
    "from sklearn.discriminant_analysis import LinearDiscriminantAnalysis\n",
    "from sklearn.neighbors import KNeighborsClassifier\n",
    "from sklearn.model_selection import cross_val_score\n",
    "from sklearn.model_selection import KFold\n",
    "from sklearn.tree import DecisionTreeClassifier\n",
    "from sklearn.ensemble import RandomForestClassifier\n",
    "from sklearn.ensemble import AdaBoostClassifier\n",
    "import matplotlib.pyplot as plt\n",
    "import seaborn as sns\n",
    "%matplotlib inline\n",
    "sns.set_context('poster')"
   ]
  },
  {
   "cell_type": "markdown",
   "metadata": {},
   "source": [
    "## 1. Data Processing"
   ]
  },
  {
   "cell_type": "markdown",
   "metadata": {},
   "source": [
    "### Load data"
   ]
  },
  {
   "cell_type": "code",
   "execution_count": 2,
   "metadata": {},
   "outputs": [
    {
     "data": {
      "text/html": [
       "<div>\n",
       "<style>\n",
       "    .dataframe thead tr:only-child th {\n",
       "        text-align: right;\n",
       "    }\n",
       "\n",
       "    .dataframe thead th {\n",
       "        text-align: left;\n",
       "    }\n",
       "\n",
       "    .dataframe tbody tr th {\n",
       "        vertical-align: top;\n",
       "    }\n",
       "</style>\n",
       "<table border=\"1\" class=\"dataframe\">\n",
       "  <thead>\n",
       "    <tr style=\"text-align: right;\">\n",
       "      <th></th>\n",
       "      <th>MCI_reversion_2y</th>\n",
       "      <th>Phase</th>\n",
       "      <th>RID</th>\n",
       "      <th>AGE</th>\n",
       "      <th>PTGENDER</th>\n",
       "      <th>PTEDUCAT</th>\n",
       "      <th>PTETHCAT</th>\n",
       "      <th>PTRACCAT</th>\n",
       "      <th>PTMARRY</th>\n",
       "      <th>APOE4</th>\n",
       "      <th>...</th>\n",
       "      <th>TMT_PtA_Complete</th>\n",
       "      <th>TMT_PtB_Complete</th>\n",
       "      <th>AVLT_Delay_Rec</th>\n",
       "      <th>CATANIMSC</th>\n",
       "      <th>AVDEL30MIN</th>\n",
       "      <th>BMI</th>\n",
       "      <th>HMHYPERT</th>\n",
       "      <th>HMSTROKE</th>\n",
       "      <th>HCAMPLAS</th>\n",
       "      <th>high_homocysteine</th>\n",
       "    </tr>\n",
       "  </thead>\n",
       "  <tbody>\n",
       "    <tr>\n",
       "      <th>0</th>\n",
       "      <td>0</td>\n",
       "      <td>ADNI1</td>\n",
       "      <td>6</td>\n",
       "      <td>80.4</td>\n",
       "      <td>Female</td>\n",
       "      <td>13</td>\n",
       "      <td>Not Hisp/Latino</td>\n",
       "      <td>White</td>\n",
       "      <td>Married</td>\n",
       "      <td>0</td>\n",
       "      <td>...</td>\n",
       "      <td>49.0</td>\n",
       "      <td>168.0</td>\n",
       "      <td>7.0</td>\n",
       "      <td>13</td>\n",
       "      <td>1</td>\n",
       "      <td>24.324697</td>\n",
       "      <td>0</td>\n",
       "      <td>0</td>\n",
       "      <td>9.7</td>\n",
       "      <td>0</td>\n",
       "    </tr>\n",
       "    <tr>\n",
       "      <th>1</th>\n",
       "      <td>0</td>\n",
       "      <td>ADNI1</td>\n",
       "      <td>33</td>\n",
       "      <td>83.3</td>\n",
       "      <td>Male</td>\n",
       "      <td>20</td>\n",
       "      <td>Not Hisp/Latino</td>\n",
       "      <td>White</td>\n",
       "      <td>Married</td>\n",
       "      <td>0</td>\n",
       "      <td>...</td>\n",
       "      <td>NaN</td>\n",
       "      <td>NaN</td>\n",
       "      <td>NaN</td>\n",
       "      <td>16</td>\n",
       "      <td>0</td>\n",
       "      <td>12.511363</td>\n",
       "      <td>0</td>\n",
       "      <td>0</td>\n",
       "      <td>7.1</td>\n",
       "      <td>0</td>\n",
       "    </tr>\n",
       "    <tr>\n",
       "      <th>2</th>\n",
       "      <td>0</td>\n",
       "      <td>ADNI1</td>\n",
       "      <td>51</td>\n",
       "      <td>66.5</td>\n",
       "      <td>Male</td>\n",
       "      <td>18</td>\n",
       "      <td>Not Hisp/Latino</td>\n",
       "      <td>White</td>\n",
       "      <td>Married</td>\n",
       "      <td>2</td>\n",
       "      <td>...</td>\n",
       "      <td>27.0</td>\n",
       "      <td>94.0</td>\n",
       "      <td>10.0</td>\n",
       "      <td>9</td>\n",
       "      <td>3</td>\n",
       "      <td>23.849469</td>\n",
       "      <td>0</td>\n",
       "      <td>0</td>\n",
       "      <td>8.8</td>\n",
       "      <td>0</td>\n",
       "    </tr>\n",
       "    <tr>\n",
       "      <th>3</th>\n",
       "      <td>0</td>\n",
       "      <td>ADNI1</td>\n",
       "      <td>80</td>\n",
       "      <td>85.0</td>\n",
       "      <td>Male</td>\n",
       "      <td>18</td>\n",
       "      <td>Not Hisp/Latino</td>\n",
       "      <td>White</td>\n",
       "      <td>Married</td>\n",
       "      <td>1</td>\n",
       "      <td>...</td>\n",
       "      <td>33.0</td>\n",
       "      <td>81.0</td>\n",
       "      <td>11.0</td>\n",
       "      <td>17</td>\n",
       "      <td>4</td>\n",
       "      <td>23.242022</td>\n",
       "      <td>0</td>\n",
       "      <td>0</td>\n",
       "      <td>10.8</td>\n",
       "      <td>0</td>\n",
       "    </tr>\n",
       "    <tr>\n",
       "      <th>4</th>\n",
       "      <td>0</td>\n",
       "      <td>ADNI1</td>\n",
       "      <td>98</td>\n",
       "      <td>84.4</td>\n",
       "      <td>Female</td>\n",
       "      <td>16</td>\n",
       "      <td>Not Hisp/Latino</td>\n",
       "      <td>White</td>\n",
       "      <td>Divorced</td>\n",
       "      <td>1</td>\n",
       "      <td>...</td>\n",
       "      <td>62.0</td>\n",
       "      <td>167.0</td>\n",
       "      <td>15.0</td>\n",
       "      <td>17</td>\n",
       "      <td>4</td>\n",
       "      <td>24.248285</td>\n",
       "      <td>1</td>\n",
       "      <td>0</td>\n",
       "      <td>12.2</td>\n",
       "      <td>0</td>\n",
       "    </tr>\n",
       "  </tbody>\n",
       "</table>\n",
       "<p>5 rows × 38 columns</p>\n",
       "</div>"
      ],
      "text/plain": [
       "   MCI_reversion_2y  Phase  RID   AGE PTGENDER  PTEDUCAT         PTETHCAT  \\\n",
       "0                 0  ADNI1    6  80.4   Female        13  Not Hisp/Latino   \n",
       "1                 0  ADNI1   33  83.3     Male        20  Not Hisp/Latino   \n",
       "2                 0  ADNI1   51  66.5     Male        18  Not Hisp/Latino   \n",
       "3                 0  ADNI1   80  85.0     Male        18  Not Hisp/Latino   \n",
       "4                 0  ADNI1   98  84.4   Female        16  Not Hisp/Latino   \n",
       "\n",
       "  PTRACCAT   PTMARRY  APOE4        ...          TMT_PtA_Complete  \\\n",
       "0    White   Married      0        ...                      49.0   \n",
       "1    White   Married      0        ...                       NaN   \n",
       "2    White   Married      2        ...                      27.0   \n",
       "3    White   Married      1        ...                      33.0   \n",
       "4    White  Divorced      1        ...                      62.0   \n",
       "\n",
       "   TMT_PtB_Complete  AVLT_Delay_Rec  CATANIMSC  AVDEL30MIN        BMI  \\\n",
       "0             168.0             7.0         13           1  24.324697   \n",
       "1               NaN             NaN         16           0  12.511363   \n",
       "2              94.0            10.0          9           3  23.849469   \n",
       "3              81.0            11.0         17           4  23.242022   \n",
       "4             167.0            15.0         17           4  24.248285   \n",
       "\n",
       "   HMHYPERT  HMSTROKE  HCAMPLAS  high_homocysteine  \n",
       "0         0         0       9.7                  0  \n",
       "1         0         0       7.1                  0  \n",
       "2         0         0       8.8                  0  \n",
       "3         0         0      10.8                  0  \n",
       "4         1         0      12.2                  0  \n",
       "\n",
       "[5 rows x 38 columns]"
      ]
     },
     "execution_count": 2,
     "metadata": {},
     "output_type": "execute_result"
    }
   ],
   "source": [
    "# Load data\n",
    "data = pd.read_csv(\"model.csv\")\n",
    "data.head()"
   ]
  },
  {
   "cell_type": "markdown",
   "metadata": {},
   "source": [
    "** Before we start fitting classification models, we notice that there are some values in the three biomarkers columns are missing.**"
   ]
  },
  {
   "cell_type": "code",
   "execution_count": 3,
   "metadata": {},
   "outputs": [
    {
     "name": "stdout",
     "output_type": "stream",
     "text": [
      "Number of observations with missing predictors is 141\n"
     ]
    }
   ],
   "source": [
    "# Number of observations with missing data\n",
    "print('Number of observations with missing predictors is', len(data)-len(data.dropna()))"
   ]
  },
  {
   "cell_type": "code",
   "execution_count": 4,
   "metadata": {},
   "outputs": [
    {
     "data": {
      "text/plain": [
       "MCI_reversion_2y          0\n",
       "Phase                     0\n",
       "RID                       0\n",
       "AGE                       0\n",
       "PTGENDER                  0\n",
       "PTEDUCAT                  0\n",
       "PTETHCAT                  0\n",
       "PTRACCAT                  0\n",
       "PTMARRY                   0\n",
       "APOE4                     0\n",
       "FDG                      79\n",
       "CDRSB                     0\n",
       "ADAS11                    0\n",
       "ADAS13                    1\n",
       "MMSE                      0\n",
       "RAVLT_immediate           0\n",
       "RAVLT_learning            0\n",
       "RAVLT_forgetting          0\n",
       "RAVLT_perc_forgetting     0\n",
       "FAQ                       3\n",
       "MH14ALCH                  0\n",
       "MH15DRUG                  0\n",
       "MH16SMOK                  0\n",
       "ABETA                    86\n",
       "TAU                      86\n",
       "PTAU                     86\n",
       "PMBLGLUC                 79\n",
       "diabetes                 79\n",
       "TMT_PtA_Complete         13\n",
       "TMT_PtB_Complete         13\n",
       "AVLT_Delay_Rec           13\n",
       "CATANIMSC                 0\n",
       "AVDEL30MIN                0\n",
       "BMI                       0\n",
       "HMHYPERT                  0\n",
       "HMSTROKE                  0\n",
       "HCAMPLAS                  0\n",
       "high_homocysteine         0\n",
       "dtype: int64"
      ]
     },
     "execution_count": 4,
     "metadata": {},
     "output_type": "execute_result"
    }
   ],
   "source": [
    "# Check missing samples for each predictors\n",
    "data.isnull().sum()"
   ]
  },
  {
   "cell_type": "code",
   "execution_count": 5,
   "metadata": {
    "collapsed": true
   },
   "outputs": [],
   "source": [
    "# Drop predictors with missing value\n",
    "data = data.drop(['AVLT_Delay_Rec','ABETA','TMT_PtB_Complete','FDG','TAU','RID','PTEDUCAT'],1)"
   ]
  },
  {
   "cell_type": "code",
   "execution_count": 6,
   "metadata": {},
   "outputs": [
    {
     "data": {
      "text/html": [
       "<div>\n",
       "<style>\n",
       "    .dataframe thead tr:only-child th {\n",
       "        text-align: right;\n",
       "    }\n",
       "\n",
       "    .dataframe thead th {\n",
       "        text-align: left;\n",
       "    }\n",
       "\n",
       "    .dataframe tbody tr th {\n",
       "        vertical-align: top;\n",
       "    }\n",
       "</style>\n",
       "<table border=\"1\" class=\"dataframe\">\n",
       "  <thead>\n",
       "    <tr style=\"text-align: right;\">\n",
       "      <th></th>\n",
       "      <th>AGE</th>\n",
       "      <th>PTGENDER</th>\n",
       "      <th>PTMARRY</th>\n",
       "      <th>APOE4</th>\n",
       "      <th>ADAS13</th>\n",
       "      <th>RAVLT_immediate</th>\n",
       "      <th>RAVLT_learning</th>\n",
       "      <th>RAVLT_forgetting</th>\n",
       "      <th>MH16SMOK</th>\n",
       "      <th>CATANIMSC</th>\n",
       "      <th>high_homocysteine</th>\n",
       "      <th>MCI_reversion_2y</th>\n",
       "    </tr>\n",
       "  </thead>\n",
       "  <tbody>\n",
       "    <tr>\n",
       "      <th>0</th>\n",
       "      <td>80.4</td>\n",
       "      <td>Female</td>\n",
       "      <td>Married</td>\n",
       "      <td>0</td>\n",
       "      <td>25.67</td>\n",
       "      <td>30</td>\n",
       "      <td>1</td>\n",
       "      <td>5</td>\n",
       "      <td>0</td>\n",
       "      <td>13</td>\n",
       "      <td>0</td>\n",
       "      <td>0</td>\n",
       "    </tr>\n",
       "    <tr>\n",
       "      <th>1</th>\n",
       "      <td>83.3</td>\n",
       "      <td>Male</td>\n",
       "      <td>Married</td>\n",
       "      <td>0</td>\n",
       "      <td>25.67</td>\n",
       "      <td>21</td>\n",
       "      <td>4</td>\n",
       "      <td>6</td>\n",
       "      <td>1</td>\n",
       "      <td>16</td>\n",
       "      <td>0</td>\n",
       "      <td>0</td>\n",
       "    </tr>\n",
       "    <tr>\n",
       "      <th>2</th>\n",
       "      <td>66.5</td>\n",
       "      <td>Male</td>\n",
       "      <td>Married</td>\n",
       "      <td>2</td>\n",
       "      <td>17.67</td>\n",
       "      <td>29</td>\n",
       "      <td>1</td>\n",
       "      <td>4</td>\n",
       "      <td>0</td>\n",
       "      <td>9</td>\n",
       "      <td>0</td>\n",
       "      <td>0</td>\n",
       "    </tr>\n",
       "    <tr>\n",
       "      <th>3</th>\n",
       "      <td>85.0</td>\n",
       "      <td>Male</td>\n",
       "      <td>Married</td>\n",
       "      <td>1</td>\n",
       "      <td>21.00</td>\n",
       "      <td>23</td>\n",
       "      <td>4</td>\n",
       "      <td>3</td>\n",
       "      <td>0</td>\n",
       "      <td>17</td>\n",
       "      <td>0</td>\n",
       "      <td>0</td>\n",
       "    </tr>\n",
       "    <tr>\n",
       "      <th>4</th>\n",
       "      <td>84.4</td>\n",
       "      <td>Female</td>\n",
       "      <td>Divorced</td>\n",
       "      <td>1</td>\n",
       "      <td>17.67</td>\n",
       "      <td>25</td>\n",
       "      <td>4</td>\n",
       "      <td>5</td>\n",
       "      <td>1</td>\n",
       "      <td>17</td>\n",
       "      <td>0</td>\n",
       "      <td>0</td>\n",
       "    </tr>\n",
       "  </tbody>\n",
       "</table>\n",
       "</div>"
      ],
      "text/plain": [
       "    AGE PTGENDER   PTMARRY  APOE4  ADAS13  RAVLT_immediate  RAVLT_learning  \\\n",
       "0  80.4   Female   Married      0   25.67               30               1   \n",
       "1  83.3     Male   Married      0   25.67               21               4   \n",
       "2  66.5     Male   Married      2   17.67               29               1   \n",
       "3  85.0     Male   Married      1   21.00               23               4   \n",
       "4  84.4   Female  Divorced      1   17.67               25               4   \n",
       "\n",
       "   RAVLT_forgetting  MH16SMOK  CATANIMSC  high_homocysteine  MCI_reversion_2y  \n",
       "0                 5         0         13                  0                 0  \n",
       "1                 6         1         16                  0                 0  \n",
       "2                 4         0          9                  0                 0  \n",
       "3                 3         0         17                  0                 0  \n",
       "4                 5         1         17                  0                 0  "
      ]
     },
     "execution_count": 6,
     "metadata": {},
     "output_type": "execute_result"
    }
   ],
   "source": [
    "data=data[['AGE', 'PTGENDER', 'PTMARRY', 'APOE4', 'ADAS13', 'RAVLT_immediate', 'RAVLT_learning', 'RAVLT_forgetting',\n",
    "           'MH16SMOK', 'CATANIMSC', 'high_homocysteine','MCI_reversion_2y']]\n",
    "data.head()"
   ]
  },
  {
   "cell_type": "markdown",
   "metadata": {},
   "source": [
    "** Missing problem**\n",
    "<br/>If we use predictors with missing values, our model will drop samples with missing predictors, which lead to dramatically decreased sample size. In order to keep enough sample size, we will drop these predictors with missing value."
   ]
  },
  {
   "cell_type": "markdown",
   "metadata": {},
   "source": [
    "### Data processing"
   ]
  },
  {
   "cell_type": "markdown",
   "metadata": {},
   "source": [
    "- ** Data was split into 60% training set and 40% test set. **\n",
    "- ** All continous variable were normalizaed:**\n",
    "<br/> The majority of classifiers calculate the distance between two points by the Euclidean distance. If one of the features has a broad range of values, the distance will be governed by this particular feature. We notice that the range of values of raw data varies widely, these continuous features should be normalized so that each feature contributes approximately proportionately to the final distance."
   ]
  },
  {
   "cell_type": "code",
   "execution_count": 7,
   "metadata": {
    "collapsed": true
   },
   "outputs": [],
   "source": [
    "# Divide data into training and test set\n",
    "np.random.seed(9001)\n",
    "msk = np.random.rand(len(data)) < 0.6\n",
    "data_train = data[msk]\n",
    "data_test = data[~msk]\n",
    "\n",
    "data_train = data_train[np.isfinite(data_train['ADAS13'])]\n",
    "#data_train = data_train[np.isfinite(data_train['FAQ'])]\n",
    "\n",
    "data_test = data_test[np.isfinite(data_test['ADAS13'])]\n",
    "#data_test = data_test[np.isfinite(data_test['FAQ'])]\n",
    "\n",
    "X_train = data_train.drop('MCI_reversion_2y',1)\n",
    "y_train = data_train['MCI_reversion_2y'].values\n",
    "X_test = data_test.drop('MCI_reversion_2y',1)\n",
    "y_test = data_test['MCI_reversion_2y'].values\n",
    "\n",
    "# Pre-process the categorical attributes - create dummy variables\n",
    "attr_cats = ['PTGENDER', 'PTMARRY', 'APOE4']\n",
    "x_train = pd.get_dummies(X_train, columns=attr_cats, drop_first=True)\n",
    "x_test = pd.get_dummies(X_test, columns=attr_cats, drop_first=True)\n",
    "\n",
    "# Pre-process the numerical attributes - standardize the variables\n",
    "attr_nums = ['AGE', 'RAVLT_immediate', 'RAVLT_learning','RAVLT_forgetting', 'ADAS13', 'CATANIMSC']\n",
    "#attr_nums = ['AGE','RAVLT_immediate','RAVLT_learning''ADAS13']\n",
    "\n",
    "means = {attr_num: np.mean(x_train[attr_num]) for attr_num in attr_nums}\n",
    "sds = {attr_num: np.std(x_train[attr_num], ddof=1) for attr_num in attr_nums}\n",
    "\n",
    "for attr_num in attr_nums:\n",
    "    x_train[attr_num] = (x_train[attr_num] - means[attr_num]) / sds[attr_num]\n",
    "    x_test[attr_num] = (x_test[attr_num] - means[attr_num]) / sds[attr_num]"
   ]
  },
  {
   "cell_type": "code",
   "execution_count": 8,
   "metadata": {},
   "outputs": [
    {
     "name": "stdout",
     "output_type": "stream",
     "text": [
      "Number of cases in the training set is 6\n"
     ]
    }
   ],
   "source": [
    "print('Number of cases in the training set is', np.sum(y_train))"
   ]
  },
  {
   "cell_type": "markdown",
   "metadata": {},
   "source": [
    "**This is a dataset with imbalanced class labels**\n",
    "<br/> There are many more patiants that didn't reverse ( Y=0 ) than reversion subjects ( Y=1 ). We would think the classification accuracy may not be the best metric to evaluate a classifier's performance. As an alternative, we could analyze the confusion table for the classifier."
   ]
  },
  {
   "cell_type": "markdown",
   "metadata": {},
   "source": [
    "### PCA analysis"
   ]
  },
  {
   "cell_type": "code",
   "execution_count": 9,
   "metadata": {},
   "outputs": [
    {
     "data": {
      "image/png": "[encoded data removed]",
      "text/plain": [
       "<matplotlib.figure.Figure at 0x110888278>"
      ]
     },
     "metadata": {},
     "output_type": "display_data"
    }
   ],
   "source": [
    "# Find the top two principal components for the gene expression data\n",
    "pca = PCA(n_components=2)\n",
    "x_train_pca = pca.fit_transform(x_train)\n",
    "\n",
    "# Create a dataset for the top two principle components\n",
    "train_pca = pd.DataFrame({'MCI reversion': y_train})\n",
    "train_pca['pc1'] = x_train_pca[:,0]\n",
    "train_pca['pc2'] = x_train_pca[:,1]\n",
    "\n",
    "# Generate a scatter plot\n",
    "plt.scatter(train_pca[train_pca['MCI reversion']==0]['pc1'], train_pca[train_pca['MCI reversion']==0]['pc2'], label='Did Not reverse to normal')\n",
    "plt.scatter(train_pca[train_pca['MCI reversion']==1]['pc1'], train_pca[train_pca['MCI reversion']==1]['pc2'], label='Reversed to normal ')\n",
    "plt.xlabel('PC1')\n",
    "plt.ylabel('PC2')\n",
    "plt.title('PCA - Scatter Plot')\n",
    "plt.legend();"
   ]
  },
  {
   "cell_type": "markdown",
   "metadata": {},
   "source": [
    "Each dot in this plot represents one sample. If we look at the blue dots, the patients who did not reverse to normal have generally cluster in the left bottom of the plots.  "
   ]
  },
  {
   "cell_type": "markdown",
   "metadata": {},
   "source": [
    "## 2. Classification Models"
   ]
  },
  {
   "cell_type": "code",
   "execution_count": 756,
   "metadata": {
    "collapsed": true
   },
   "outputs": [],
   "source": [
    "# Functions to calculate TPR and FPR\n",
    "def tpr(confusion_matrix):\n",
    "    return confusion_matrix[1][1]/np.sum(confusion_matrix[1])\n",
    "def fpr(confusion_matrix):\n",
    "    return confusion_matrix[0][1]/np.sum(confusion_matrix[0])"
   ]
  },
  {
   "cell_type": "markdown",
   "metadata": {},
   "source": [
    "### a. Logistic Regression\n",
    "We use L2 regularization in logistic regression, with the regularization parameter tuned using 5 fold cross-validation."
   ]
  },
  {
   "cell_type": "code",
   "execution_count": 757,
   "metadata": {
    "collapsed": true
   },
   "outputs": [],
   "source": [
    "# Logistic Regression \n",
    "logistic = LogisticRegressionCV(cv=5, penalty='l2').fit(x_train, y_train)\n",
    "logistic_acc_train = logistic.score(x_train, y_train)\n",
    "logistic_acc_test = logistic.score(x_test, y_test)\n",
    "cm_log = metrics.confusion_matrix(y_train, logistic.predict(x_train))\n",
    "auc_log = metrics.roc_auc_score(y_train, logistic.predict_proba(x_train)[:,1])\n",
    "auc_log_test = metrics.roc_auc_score(y_test, logistic.predict_proba(x_test)[:,1])"
   ]
  },
  {
   "cell_type": "markdown",
   "metadata": {},
   "source": [
    "### b. Linear Discriminant Analysis"
   ]
  },
  {
   "cell_type": "code",
   "execution_count": 758,
   "metadata": {
    "collapsed": true
   },
   "outputs": [],
   "source": [
    "# Linear Discriminant Analysis\n",
    "lda = LinearDiscriminantAnalysis().fit(x_train, y_train)\n",
    "lda_acc_train = lda.score(x_train, y_train)\n",
    "lda_acc_test = lda.score(x_test, y_test)\n",
    "cm_lda = metrics.confusion_matrix(y_train, lda.predict(x_train))\n",
    "auc_lda = metrics.roc_auc_score(y_train, lda.predict_proba(x_train)[:,1])\n",
    "auc_lda_test= metrics.roc_auc_score(y_test, lda.predict_proba(x_test)[:,1])"
   ]
  },
  {
   "cell_type": "markdown",
   "metadata": {},
   "source": [
    "### c. k-NN\n",
    "We fit a k-NN regression model to the training set for different values of  k (1 to 20) and choose k using 5 fold cross-validation."
   ]
  },
  {
   "cell_type": "code",
   "execution_count": 759,
   "metadata": {},
   "outputs": [
    {
     "name": "stdout",
     "output_type": "stream",
     "text": [
      "The optimal number of neighbors is 2\n"
     ]
    }
   ],
   "source": [
    "# k-NN\n",
    "neighbors = np.arange(1,20)\n",
    "\n",
    "# Perform 5-fold cross validation to choose the optimal number of neighbors\n",
    "cv_scores_knn = []\n",
    "for k in neighbors:\n",
    "    knn = KNeighborsClassifier(n_neighbors=k)\n",
    "    scores = cross_val_score(knn, x_train, y_train, cv=5, scoring='accuracy')\n",
    "    cv_scores_knn.append(scores.mean())\n",
    "\n",
    "# Determine the best k\n",
    "optimal_k = neighbors[np.argmax(cv_scores_knn)]\n",
    "print (\"The optimal number of neighbors is %d\" % optimal_k)"
   ]
  },
  {
   "cell_type": "code",
   "execution_count": 760,
   "metadata": {
    "collapsed": true
   },
   "outputs": [],
   "source": [
    "# Fit k-NN model using the optimal number of neighbors\n",
    "knn = KNeighborsClassifier(optimal_k).fit(x_train, y_train)\n",
    "knn_acc_train = knn.score(x_train, y_train)\n",
    "knn_acc_test = knn.score(x_test, y_test)\n",
    "cm_knn = metrics.confusion_matrix(y_train, knn.predict(x_train))\n",
    "auc_knn= metrics.roc_auc_score(y_train, knn.predict_proba(x_train)[:,1])\n",
    "auc_knn_test = metrics.roc_auc_score(y_test, knn.predict_proba(x_test)[:,1])"
   ]
  },
  {
   "cell_type": "markdown",
   "metadata": {},
   "source": [
    "### d. Decision Tree\n",
    "We fit a decision tree model to the training set and use 5-fold cross-validation to choose the (maximum) depth for the tree."
   ]
  },
  {
   "cell_type": "code",
   "execution_count": 761,
   "metadata": {},
   "outputs": [
    {
     "name": "stdout",
     "output_type": "stream",
     "text": [
      "The best maximum depth is 21\n"
     ]
    }
   ],
   "source": [
    "# Decision tree\n",
    "depths = np.arange(2,25)\n",
    "\n",
    "# Use 5-fold cross-validation to choose the (maximum) depth for the tree\n",
    "cv_scores_dt = []\n",
    "for depth in depths:\n",
    "    dt = DecisionTreeClassifier(max_depth=depth)\n",
    "    scores = cross_val_score(dt, x_train, y_train, cv=5, scoring='accuracy')\n",
    "    cv_scores_dt.append(scores.mean())\n",
    "\n",
    "# Determine the best (maximum) depth\n",
    "best_depth = depths[np.argmax(cv_scores_dt)]\n",
    "print('The best maximum depth is %d'%(best_depth))"
   ]
  },
  {
   "cell_type": "code",
   "execution_count": 762,
   "metadata": {
    "collapsed": true
   },
   "outputs": [],
   "source": [
    "# Fit decision tree model using the best (maximum) depth\n",
    "dt = DecisionTreeClassifier(max_depth=best_depth)\n",
    "dt.fit(x_train, y_train)\n",
    "dt_acc_train = dt.score(x_train, y_train)\n",
    "dt_acc_test = dt.score(x_test, y_test)\n",
    "cm_dt = metrics.confusion_matrix(y_train, dt.predict(x_train))\n",
    "auc_dt = metrics.roc_auc_score(y_train, dt.predict_proba(x_train)[:,1])\n",
    "auc_dt_test = metrics.roc_auc_score(y_test, dt.predict_proba(x_test)[:,1])"
   ]
  },
  {
   "cell_type": "markdown",
   "metadata": {},
   "source": [
    "### e. Random Forest\n",
    "We fit a random forest model to the training set and use 5-fold cross-validation to choose the optimal value for the number of predictors and trees."
   ]
  },
  {
   "cell_type": "code",
   "execution_count": 763,
   "metadata": {},
   "outputs": [
    {
     "name": "stdout",
     "output_type": "stream",
     "text": [
      "The optimal value for the number of predictors is 2\n",
      "The optimal value for the number of trees is 128\n"
     ]
    }
   ],
   "source": [
    "# Use 5-fold cross-validation to choose the optimal value for the number of predictors\n",
    "n_features = np.arange(1,8)\n",
    "n_trees = 2**np.arange(1,9)\n",
    "\n",
    "cv_scores_rf = {}\n",
    "for n_feature in n_features:\n",
    "    for n_tree in n_trees:\n",
    "        rf = RandomForestClassifier(n_estimators=n_tree, max_features=n_feature, max_depth=best_depth)\n",
    "        scores = cross_val_score(rf, x_train, y_train, cv=5, scoring='accuracy')\n",
    "        cv_scores_rf[(n_feature,n_tree)] = scores.mean()\n",
    "        \n",
    "best_n_feature, best_n_tree = max(cv_scores_rf, key=cv_scores_rf.get)\n",
    "print('The optimal value for the number of predictors is %d\\nThe optimal value for the number of trees is %d'%(best_n_feature,best_n_tree))"
   ]
  },
  {
   "cell_type": "code",
   "execution_count": 764,
   "metadata": {
    "collapsed": true
   },
   "outputs": [],
   "source": [
    "# Fit the RF model using the optimal number of trees and the optimal number of predictors\n",
    "rf = RandomForestClassifier(n_estimators=best_n_tree, max_features=best_n_feature, max_depth=best_depth)\n",
    "rf.fit(x_train, y_train)\n",
    "rf_acc_train = rf.score(x_train, y_train)\n",
    "rf_acc_test = rf.score(x_test, y_test)\n",
    "cm_rf = metrics.confusion_matrix(y_train, rf.predict(x_train))\n",
    "auc_rf= metrics.roc_auc_score(y_train, rf.predict_proba(x_train)[:,1])\n",
    "auc_rf_test= metrics.roc_auc_score(y_test, rf.predict_proba(x_test)[:,1])"
   ]
  },
  {
   "cell_type": "code",
   "execution_count": 765,
   "metadata": {
    "collapsed": true
   },
   "outputs": [],
   "source": [
    "names = x_train.columns.get_values()"
   ]
  },
  {
   "cell_type": "code",
   "execution_count": 766,
   "metadata": {},
   "outputs": [
    {
     "name": "stdout",
     "output_type": "stream",
     "text": [
      "Features sorted by their score:\n",
      "[(0.17150000000000001, 'ADAS13'), (0.15970000000000001, 'AGE'), (0.1542, 'CATANIMSC'), (0.14280000000000001, 'RAVLT_immediate'), (0.1032, 'RAVLT_forgetting'), (0.093100000000000002, 'RAVLT_learning'), (0.048500000000000001, 'MH16SMOK'), (0.030200000000000001, 'high_homocysteine'), (0.029399999999999999, 'PTMARRY_Married'), (0.0293, 'PTGENDER_Male'), (0.025899999999999999, 'APOE4_1'), (0.0086, 'APOE4_2'), (0.0035999999999999999, 'PTMARRY_Widowed')]\n"
     ]
    }
   ],
   "source": [
    "print (\"Features sorted by their score:\")\n",
    "print (sorted(zip(map(lambda x: round(x, 4), rf.feature_importances_), names), \n",
    "             reverse=True))"
   ]
  },
  {
   "cell_type": "code",
   "execution_count": 767,
   "metadata": {},
   "outputs": [
    {
     "data": {
      "text/plain": [
       "<matplotlib.text.Text at 0x1a1974ef28>"
      ]
     },
     "execution_count": 767,
     "metadata": {},
     "output_type": "execute_result"
    },
    {
     "data": {
      "image/png": "[encoded data removed]",
      "text/plain": [
       "<matplotlib.figure.Figure at 0x1a19637a90>"
      ]
     },
     "metadata": {},
     "output_type": "display_data"
    }
   ],
   "source": [
    "importances = rf.feature_importances_\n",
    "indices = np.argsort(importances)\n",
    "\n",
    "plt.title('Feature Importances')\n",
    "plt.barh(range(len(indices)), importances[indices], color='b', align='center')\n",
    "plt.yticks(range(len(indices)), names[indices])\n",
    "plt.xlabel('Relative Importance')"
   ]
  },
  {
   "cell_type": "markdown",
   "metadata": {},
   "source": [
    "### f. Boosting\n",
    "We fit a Boosting model to the training set and apply 5-fold cross-validation to choose the optimal number of trees for the ensemble and the optimal tree depth for the base learners."
   ]
  },
  {
   "cell_type": "code",
   "execution_count": 768,
   "metadata": {},
   "outputs": [
    {
     "name": "stdout",
     "output_type": "stream",
     "text": [
      "The optimal maximum depth is 2\n",
      "The optimal number of trees is 16\n"
     ]
    }
   ],
   "source": [
    "# Boosting\n",
    "n_tree = 2**np.arange(1,5)\n",
    "depths = [2,5,10,None]\n",
    "\n",
    "cv_scores_bo = {}\n",
    "for depth in depths:\n",
    "    for n in n_tree:\n",
    "        adaboost = AdaBoostClassifier(DecisionTreeClassifier(max_depth=depth), n_estimators=n, learning_rate=0.05)\n",
    "        scores = cross_val_score(adaboost, x_train, y_train, cv=5, scoring='accuracy')\n",
    "        cv_scores_bo[(depth,n)] = scores.mean()\n",
    "best_depth, best_n_tree = max(cv_scores_bo, key=cv_scores_bo.get)\n",
    "print('The optimal maximum depth is %d\\nThe optimal number of trees is %d'%(best_depth, best_n_tree))"
   ]
  },
  {
   "cell_type": "code",
   "execution_count": 769,
   "metadata": {
    "collapsed": true
   },
   "outputs": [],
   "source": [
    "# Fit the AdaBoost model using the optimal number of trees and the optimal maximum depth\n",
    "adaboost = AdaBoostClassifier(DecisionTreeClassifier(max_depth=best_depth), n_estimators=best_n_tree, learning_rate=0.05)\n",
    "adaboost.fit(x_train, y_train)\n",
    "adaboost_acc_train = adaboost.score(x_train, y_train)\n",
    "adaboost_acc_test = adaboost.score(x_test, y_test)\n",
    "cm_adaboost = metrics.confusion_matrix(y_train, adaboost.predict(x_train))\n",
    "auc_adaboost= metrics.roc_auc_score(y_train, adaboost.predict_proba(x_train)[:,1])\n",
    "auc_adaboost_test= metrics.roc_auc_score(y_test, adaboost.predict_proba(x_test)[:,1])"
   ]
  },
  {
   "cell_type": "markdown",
   "metadata": {},
   "source": [
    "### Model Performance"
   ]
  },
  {
   "cell_type": "code",
   "execution_count": 770,
   "metadata": {},
   "outputs": [
    {
     "data": {
      "text/html": [
       "<div>\n",
       "<style>\n",
       "    .dataframe thead tr:only-child th {\n",
       "        text-align: right;\n",
       "    }\n",
       "\n",
       "    .dataframe thead th {\n",
       "        text-align: left;\n",
       "    }\n",
       "\n",
       "    .dataframe tbody tr th {\n",
       "        vertical-align: top;\n",
       "    }\n",
       "</style>\n",
       "<table border=\"1\" class=\"dataframe\">\n",
       "  <thead>\n",
       "    <tr style=\"text-align: right;\">\n",
       "      <th></th>\n",
       "      <th>Training accuracy</th>\n",
       "      <th>Test accuracy</th>\n",
       "      <th>True postive rate</th>\n",
       "      <th>False postive rate</th>\n",
       "      <th>AUC_training</th>\n",
       "      <th>AUC_test</th>\n",
       "    </tr>\n",
       "  </thead>\n",
       "  <tbody>\n",
       "    <tr>\n",
       "      <th>Logistic regression</th>\n",
       "      <td>0.941176</td>\n",
       "      <td>0.915663</td>\n",
       "      <td>0.000000</td>\n",
       "      <td>0.000000</td>\n",
       "      <td>0.878472</td>\n",
       "      <td>0.832707</td>\n",
       "    </tr>\n",
       "    <tr>\n",
       "      <th>LDA</th>\n",
       "      <td>0.950980</td>\n",
       "      <td>0.915663</td>\n",
       "      <td>0.333333</td>\n",
       "      <td>0.010417</td>\n",
       "      <td>0.939236</td>\n",
       "      <td>0.648496</td>\n",
       "    </tr>\n",
       "    <tr>\n",
       "      <th>k-NN</th>\n",
       "      <td>0.941176</td>\n",
       "      <td>0.903614</td>\n",
       "      <td>0.000000</td>\n",
       "      <td>0.000000</td>\n",
       "      <td>0.979167</td>\n",
       "      <td>0.588346</td>\n",
       "    </tr>\n",
       "    <tr>\n",
       "      <th>Decision Tree</th>\n",
       "      <td>1.000000</td>\n",
       "      <td>0.903614</td>\n",
       "      <td>1.000000</td>\n",
       "      <td>0.000000</td>\n",
       "      <td>1.000000</td>\n",
       "      <td>0.558271</td>\n",
       "    </tr>\n",
       "    <tr>\n",
       "      <th>Random Forest</th>\n",
       "      <td>1.000000</td>\n",
       "      <td>0.903614</td>\n",
       "      <td>1.000000</td>\n",
       "      <td>0.000000</td>\n",
       "      <td>1.000000</td>\n",
       "      <td>0.854323</td>\n",
       "    </tr>\n",
       "    <tr>\n",
       "      <th>Adaboost</th>\n",
       "      <td>1.000000</td>\n",
       "      <td>0.915663</td>\n",
       "      <td>1.000000</td>\n",
       "      <td>0.000000</td>\n",
       "      <td>1.000000</td>\n",
       "      <td>0.654135</td>\n",
       "    </tr>\n",
       "  </tbody>\n",
       "</table>\n",
       "</div>"
      ],
      "text/plain": [
       "                     Training accuracy  Test accuracy  True postive rate  \\\n",
       "Logistic regression           0.941176       0.915663           0.000000   \n",
       "LDA                           0.950980       0.915663           0.333333   \n",
       "k-NN                          0.941176       0.903614           0.000000   \n",
       "Decision Tree                 1.000000       0.903614           1.000000   \n",
       "Random Forest                 1.000000       0.903614           1.000000   \n",
       "Adaboost                      1.000000       0.915663           1.000000   \n",
       "\n",
       "                     False postive rate  AUC_training  AUC_test  \n",
       "Logistic regression            0.000000      0.878472  0.832707  \n",
       "LDA                            0.010417      0.939236  0.648496  \n",
       "k-NN                           0.000000      0.979167  0.588346  \n",
       "Decision Tree                  0.000000      1.000000  0.558271  \n",
       "Random Forest                  0.000000      1.000000  0.854323  \n",
       "Adaboost                       0.000000      1.000000  0.654135  "
      ]
     },
     "execution_count": 770,
     "metadata": {},
     "output_type": "execute_result"
    }
   ],
   "source": [
    "model = ['Logistic regression','LDA','k-NN','Decision Tree','Random Forest','Adaboost']\n",
    "column = ['Training accuracy','Test accuracy','True postive rate','False postive rate','AUC_training','AUC_test']\n",
    "\n",
    "models = pd.DataFrame(index=model, columns=column)\n",
    "models['Training accuracy']=[logistic_acc_train, lda_acc_train,knn_acc_train,dt_acc_train,rf_acc_train,adaboost_acc_train]\n",
    "models['Test accuracy']=[logistic_acc_test, lda_acc_test,knn_acc_test,dt_acc_test,rf_acc_test,adaboost_acc_test]\n",
    "models['True postive rate']=[tpr(cm_log), tpr(cm_lda),tpr(cm_knn),tpr(cm_dt),tpr(cm_rf),tpr(cm_adaboost)]\n",
    "models['False postive rate']=[fpr(cm_log), fpr(cm_lda),fpr(cm_knn),fpr(cm_dt),fpr(cm_rf),fpr(cm_adaboost)]\n",
    "models['AUC_training']=[auc_log, auc_lda,auc_knn,auc_dt,auc_rf,auc_adaboost]\n",
    "models['AUC_test']=[auc_log_test, auc_lda_test,auc_knn_test,auc_dt_test,auc_rf_test,auc_adaboost_test]\n",
    "models"
   ]
  },
  {
   "cell_type": "markdown",
   "metadata": {},
   "source": [
    "- Not surprisingly, the differences of accuracies are too small for us to select the best classifier. There are many more patiants that didn't reverse ( Y=0 ) than patients who reverse to normal ( Y=1 ) , so the classification accuracy would not differ too much if we all classifer them as non-reversed subjects.\n",
    "- If we use the true postive rate to evaluate a classifier's performance, knn, decision tree, random forest and adabosting are better than other models; The false postive rate is low for all models; If we use AUC as criterion , logistic regression and random forest have better performance.\n",
    "- We would finally choose random forest as our classification model. From the variable importance, we notice that ADAS13, age, catanimsc and RAVLT measurements are realtive important.!!!!!!!!!!!!!!!! clinical information???"
   ]
  },
  {
   "cell_type": "markdown",
   "metadata": {},
   "source": [
    "### ROC curve for random forest"
   ]
  },
  {
   "cell_type": "code",
   "execution_count": 732,
   "metadata": {},
   "outputs": [
    {
     "data": {
      "image/png": "[encoded data removed]",
      "text/plain": [
       "<matplotlib.figure.Figure at 0x1a1a57bcf8>"
      ]
     },
     "metadata": {},
     "output_type": "display_data"
    }
   ],
   "source": [
    "# Display the ROC curve for both the fitted classifier and the all 0's classifier on the test set. \n",
    "fpr1, tpr1, thresholds1 = metrics.roc_curve(y_test, rf.predict_proba(x_test)[:,1])\n",
    "fpr2, tpr2, thresholds2 = metrics.roc_curve(y_test, np.zeros(len(y_test)))\n",
    "auc1 = metrics.roc_auc_score(y_test, rf.predict_proba(x_test)[:,1])\n",
    "auc2 = metrics.roc_auc_score(y_test, np.zeros(len(y_test)))\n",
    "plt.plot(fpr1, tpr1, '.-', alpha=0.8, label='ROC curve for random forest (area = %0.2f)' % (auc1))\n",
    "plt.plot(fpr2, tpr2, '.-', alpha=0.8, label='ROC curve for all 0\\'s classifier (area = %0.2f)' % (auc2))\n",
    "plt.plot([0, 1], [0, 1], 'k--', alpha=0.2)\n",
    "plt.xlim([-0.01, 1.0])\n",
    "plt.ylim([0.0, 1.05])\n",
    "plt.xlabel('False Positive Rate')\n",
    "plt.ylabel('True Positive Rate')\n",
    "plt.title('ROC Curve')\n",
    "plt.legend(loc=\"lower right\");"
   ]
  },
  {
   "cell_type": "code",
   "execution_count": null,
   "metadata": {
    "collapsed": true
   },
   "outputs": [],
   "source": []
  }
 ],
 "metadata": {
  "anaconda-cloud": {},
  "kernelspec": {
   "display_name": "Python 3",
   "language": "python",
   "name": "python3"
  },
  "language_info": {
   "codemirror_mode": {
    "name": "ipython",
    "version": 3
   },
   "file_extension": ".py",
   "mimetype": "text/x-python",
   "name": "python",
   "nbconvert_exporter": "python",
   "pygments_lexer": "ipython3",
   "version": "3.6.3"
  }
 },
 "nbformat": 4,
 "nbformat_minor": 2
}
