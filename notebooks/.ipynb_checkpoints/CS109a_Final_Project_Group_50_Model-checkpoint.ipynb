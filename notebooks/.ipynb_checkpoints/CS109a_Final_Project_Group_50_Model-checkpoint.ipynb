{
 "cells": [
  {
   "cell_type": "markdown",
   "metadata": {},
   "source": [
    "# Modeling and Interpretation"
   ]
  },
  {
   "cell_type": "markdown",
   "metadata": {},
   "source": [
    "## 0. Import libraries"
   ]
  },
  {
   "cell_type": "code",
   "execution_count": 3,
   "metadata": {
    "collapsed": true
   },
   "outputs": [],
   "source": [
    "from sklearn.decomposition import PCA\n",
    "from sklearn.linear_model import LogisticRegressionCV\n",
    "from sklearn.linear_model import LogisticRegression\n",
    "from sklearn.model_selection import train_test_split\n",
    "import sklearn.metrics as metrics\n",
    "from sklearn.discriminant_analysis import LinearDiscriminantAnalysis\n",
    "from sklearn.neighbors import KNeighborsClassifier\n",
    "from sklearn.model_selection import cross_val_score\n",
    "from sklearn.model_selection import KFold\n",
    "from sklearn.tree import DecisionTreeClassifier\n",
    "from sklearn.ensemble import RandomForestClassifier\n",
    "from sklearn.ensemble import AdaBoostClassifier"
   ]
  },
  {
   "cell_type": "markdown",
   "metadata": {},
   "source": [
    "## 1. Data Processing"
   ]
  },
  {
   "cell_type": "code",
   "execution_count": 4,
   "metadata": {},
   "outputs": [
    {
     "data": {
      "text/html": [
       "<div>\n",
       "<style>\n",
       "    .dataframe thead tr:only-child th {\n",
       "        text-align: right;\n",
       "    }\n",
       "\n",
       "    .dataframe thead th {\n",
       "        text-align: left;\n",
       "    }\n",
       "\n",
       "    .dataframe tbody tr th {\n",
       "        vertical-align: top;\n",
       "    }\n",
       "</style>\n",
       "<table border=\"1\" class=\"dataframe\">\n",
       "  <thead>\n",
       "    <tr style=\"text-align: right;\">\n",
       "      <th></th>\n",
       "      <th>RID</th>\n",
       "      <th>AGE</th>\n",
       "      <th>PTGENDER</th>\n",
       "      <th>PTMARRY</th>\n",
       "      <th>APOE4</th>\n",
       "      <th>ADAS13</th>\n",
       "      <th>RAVLT_immediate</th>\n",
       "      <th>RAVLT_learning</th>\n",
       "      <th>TMT_PtB_Complete</th>\n",
       "      <th>ABETA</th>\n",
       "      <th>TAU</th>\n",
       "      <th>RAVLT_forgetting</th>\n",
       "      <th>MH16SMOK</th>\n",
       "      <th>CATANIMSC</th>\n",
       "      <th>high_homocysteine</th>\n",
       "      <th>MCI_reversion_2y</th>\n",
       "    </tr>\n",
       "  </thead>\n",
       "  <tbody>\n",
       "    <tr>\n",
       "      <th>0</th>\n",
       "      <td>6</td>\n",
       "      <td>80.4</td>\n",
       "      <td>Female</td>\n",
       "      <td>Married</td>\n",
       "      <td>0</td>\n",
       "      <td>25.67</td>\n",
       "      <td>30</td>\n",
       "      <td>1</td>\n",
       "      <td>168.0</td>\n",
       "      <td>NaN</td>\n",
       "      <td>NaN</td>\n",
       "      <td>5</td>\n",
       "      <td>0</td>\n",
       "      <td>13</td>\n",
       "      <td>0</td>\n",
       "      <td>0</td>\n",
       "    </tr>\n",
       "    <tr>\n",
       "      <th>1</th>\n",
       "      <td>33</td>\n",
       "      <td>83.3</td>\n",
       "      <td>Male</td>\n",
       "      <td>Married</td>\n",
       "      <td>0</td>\n",
       "      <td>25.67</td>\n",
       "      <td>21</td>\n",
       "      <td>4</td>\n",
       "      <td>NaN</td>\n",
       "      <td>129.0</td>\n",
       "      <td>110.0</td>\n",
       "      <td>6</td>\n",
       "      <td>1</td>\n",
       "      <td>16</td>\n",
       "      <td>0</td>\n",
       "      <td>0</td>\n",
       "    </tr>\n",
       "    <tr>\n",
       "      <th>2</th>\n",
       "      <td>51</td>\n",
       "      <td>66.5</td>\n",
       "      <td>Male</td>\n",
       "      <td>Married</td>\n",
       "      <td>2</td>\n",
       "      <td>17.67</td>\n",
       "      <td>29</td>\n",
       "      <td>1</td>\n",
       "      <td>94.0</td>\n",
       "      <td>92.5</td>\n",
       "      <td>83.1</td>\n",
       "      <td>4</td>\n",
       "      <td>0</td>\n",
       "      <td>9</td>\n",
       "      <td>0</td>\n",
       "      <td>0</td>\n",
       "    </tr>\n",
       "    <tr>\n",
       "      <th>3</th>\n",
       "      <td>80</td>\n",
       "      <td>85.0</td>\n",
       "      <td>Male</td>\n",
       "      <td>Married</td>\n",
       "      <td>1</td>\n",
       "      <td>21.00</td>\n",
       "      <td>23</td>\n",
       "      <td>4</td>\n",
       "      <td>81.0</td>\n",
       "      <td>NaN</td>\n",
       "      <td>NaN</td>\n",
       "      <td>3</td>\n",
       "      <td>0</td>\n",
       "      <td>17</td>\n",
       "      <td>0</td>\n",
       "      <td>0</td>\n",
       "    </tr>\n",
       "    <tr>\n",
       "      <th>4</th>\n",
       "      <td>98</td>\n",
       "      <td>84.4</td>\n",
       "      <td>Female</td>\n",
       "      <td>Unmarried</td>\n",
       "      <td>1</td>\n",
       "      <td>17.67</td>\n",
       "      <td>25</td>\n",
       "      <td>4</td>\n",
       "      <td>167.0</td>\n",
       "      <td>NaN</td>\n",
       "      <td>NaN</td>\n",
       "      <td>5</td>\n",
       "      <td>1</td>\n",
       "      <td>17</td>\n",
       "      <td>0</td>\n",
       "      <td>0</td>\n",
       "    </tr>\n",
       "  </tbody>\n",
       "</table>\n",
       "</div>"
      ],
      "text/plain": [
       "   RID   AGE PTGENDER    PTMARRY  APOE4  ADAS13  RAVLT_immediate  \\\n",
       "0    6  80.4   Female    Married      0   25.67               30   \n",
       "1   33  83.3     Male    Married      0   25.67               21   \n",
       "2   51  66.5     Male    Married      2   17.67               29   \n",
       "3   80  85.0     Male    Married      1   21.00               23   \n",
       "4   98  84.4   Female  Unmarried      1   17.67               25   \n",
       "\n",
       "   RAVLT_learning  TMT_PtB_Complete  ABETA    TAU  RAVLT_forgetting  MH16SMOK  \\\n",
       "0               1             168.0    NaN    NaN                 5         0   \n",
       "1               4               NaN  129.0  110.0                 6         1   \n",
       "2               1              94.0   92.5   83.1                 4         0   \n",
       "3               4              81.0    NaN    NaN                 3         0   \n",
       "4               4             167.0    NaN    NaN                 5         1   \n",
       "\n",
       "   CATANIMSC  high_homocysteine  MCI_reversion_2y  \n",
       "0         13                  0                 0  \n",
       "1         16                  0                 0  \n",
       "2          9                  0                 0  \n",
       "3         17                  0                 0  \n",
       "4         17                  0                 0  "
      ]
     },
     "execution_count": 4,
     "metadata": {},
     "output_type": "execute_result"
    }
   ],
   "source": [
    "# Create new dataset\n",
    "data_model = data[['RID','AGE', 'PTGENDER', 'PTMARRY', 'APOE4', 'ADAS13', 'RAVLT_immediate', 'RAVLT_learning', 'TMT_PtB_Complete', \n",
    "                   'ABETA', 'TAU', 'RAVLT_forgetting', 'MH16SMOK', 'CATANIMSC', 'high_homocysteine','MCI_reversion_2y',]]\n",
    "data_model.head()"
   ]
  },
  {
   "cell_type": "markdown",
   "metadata": {
    "collapsed": true
   },
   "source": [
    "** Before we start fitting classification models, we notice that there are some values in the three biomarkers columns are missing.**"
   ]
  },
  {
   "cell_type": "code",
   "execution_count": 5,
   "metadata": {},
   "outputs": [
    {
     "name": "stdout",
     "output_type": "stream",
     "text": [
      "Number of observations with missing predictors is 141\n"
     ]
    }
   ],
   "source": [
    "# Number of observations with missing data\n",
    "print('Number of observations with missing predictors is', len(data)-len(data.dropna()))"
   ]
  },
  {
   "cell_type": "code",
   "execution_count": 6,
   "metadata": {},
   "outputs": [
    {
     "data": {
      "text/html": [
       "<div>\n",
       "<style>\n",
       "    .dataframe thead tr:only-child th {\n",
       "        text-align: right;\n",
       "    }\n",
       "\n",
       "    .dataframe thead th {\n",
       "        text-align: left;\n",
       "    }\n",
       "\n",
       "    .dataframe tbody tr th {\n",
       "        vertical-align: top;\n",
       "    }\n",
       "</style>\n",
       "<table border=\"1\" class=\"dataframe\">\n",
       "  <thead>\n",
       "    <tr style=\"text-align: right;\">\n",
       "      <th></th>\n",
       "      <th>Number of missing</th>\n",
       "    </tr>\n",
       "  </thead>\n",
       "  <tbody>\n",
       "    <tr>\n",
       "      <th>RID</th>\n",
       "      <td>0</td>\n",
       "    </tr>\n",
       "    <tr>\n",
       "      <th>AGE</th>\n",
       "      <td>0</td>\n",
       "    </tr>\n",
       "    <tr>\n",
       "      <th>PTGENDER</th>\n",
       "      <td>0</td>\n",
       "    </tr>\n",
       "    <tr>\n",
       "      <th>PTMARRY</th>\n",
       "      <td>0</td>\n",
       "    </tr>\n",
       "    <tr>\n",
       "      <th>APOE4</th>\n",
       "      <td>0</td>\n",
       "    </tr>\n",
       "    <tr>\n",
       "      <th>ADAS13</th>\n",
       "      <td>1</td>\n",
       "    </tr>\n",
       "    <tr>\n",
       "      <th>RAVLT_immediate</th>\n",
       "      <td>0</td>\n",
       "    </tr>\n",
       "    <tr>\n",
       "      <th>RAVLT_learning</th>\n",
       "      <td>0</td>\n",
       "    </tr>\n",
       "    <tr>\n",
       "      <th>TMT_PtB_Complete</th>\n",
       "      <td>13</td>\n",
       "    </tr>\n",
       "    <tr>\n",
       "      <th>ABETA</th>\n",
       "      <td>86</td>\n",
       "    </tr>\n",
       "    <tr>\n",
       "      <th>TAU</th>\n",
       "      <td>86</td>\n",
       "    </tr>\n",
       "    <tr>\n",
       "      <th>RAVLT_forgetting</th>\n",
       "      <td>0</td>\n",
       "    </tr>\n",
       "    <tr>\n",
       "      <th>MH16SMOK</th>\n",
       "      <td>0</td>\n",
       "    </tr>\n",
       "    <tr>\n",
       "      <th>CATANIMSC</th>\n",
       "      <td>0</td>\n",
       "    </tr>\n",
       "    <tr>\n",
       "      <th>high_homocysteine</th>\n",
       "      <td>0</td>\n",
       "    </tr>\n",
       "    <tr>\n",
       "      <th>MCI_reversion_2y</th>\n",
       "      <td>0</td>\n",
       "    </tr>\n",
       "  </tbody>\n",
       "</table>\n",
       "</div>"
      ],
      "text/plain": [
       "                   Number of missing\n",
       "RID                                0\n",
       "AGE                                0\n",
       "PTGENDER                           0\n",
       "PTMARRY                            0\n",
       "APOE4                              0\n",
       "ADAS13                             1\n",
       "RAVLT_immediate                    0\n",
       "RAVLT_learning                     0\n",
       "TMT_PtB_Complete                  13\n",
       "ABETA                             86\n",
       "TAU                               86\n",
       "RAVLT_forgetting                   0\n",
       "MH16SMOK                           0\n",
       "CATANIMSC                          0\n",
       "high_homocysteine                  0\n",
       "MCI_reversion_2y                   0"
      ]
     },
     "execution_count": 6,
     "metadata": {},
     "output_type": "execute_result"
    }
   ],
   "source": [
    "# Check missings for each predictors\n",
    "pd.DataFrame(data_model.isnull().sum(), columns=['Number of missing'])"
   ]
  },
  {
   "cell_type": "code",
   "execution_count": 7,
   "metadata": {
    "collapsed": true
   },
   "outputs": [],
   "source": [
    "# Drop predictors with missing value\n",
    "data_model = data_model.drop(['TMT_PtB_Complete','ABETA','TAU','RID'],1)"
   ]
  },
  {
   "cell_type": "markdown",
   "metadata": {},
   "source": [
    "**Missing Data Problem**\n",
    "<br/>We choose to drop predictors instead of dropping observations since we only have 186 observations in our data set. We explained in our report why we did not impute the values."
   ]
  },
  {
   "cell_type": "code",
   "execution_count": 8,
   "metadata": {
    "collapsed": true
   },
   "outputs": [],
   "source": [
    "# Divide the data for modeling into training and test set using the same seed used for EDA\n",
    "np.random.seed(9001)\n",
    "msk = np.random.rand(len(data_model)) < 0.6\n",
    "data_train = data_model[msk]\n",
    "data_test = data_model[~msk]\n",
    "\n",
    "data_train = data_train[np.isfinite(data_train['ADAS13'])]\n",
    "data_test = data_test[np.isfinite(data_test['ADAS13'])]\n",
    "\n",
    "X_train = data_train.drop('MCI_reversion_2y',1)\n",
    "y_train = data_train['MCI_reversion_2y'].values\n",
    "X_test = data_test.drop('MCI_reversion_2y',1)\n",
    "y_test = data_test['MCI_reversion_2y'].values"
   ]
  },
  {
   "cell_type": "code",
   "execution_count": 9,
   "metadata": {
    "collapsed": true
   },
   "outputs": [],
   "source": [
    "# Pre-process the categorical attributes - create dummy variables\n",
    "attr_cats = ['PTGENDER', 'PTMARRY', 'APOE4']\n",
    "x_train = pd.get_dummies(X_train, columns=attr_cats, drop_first=True)\n",
    "x_test = pd.get_dummies(X_test, columns=attr_cats, drop_first=True)\n",
    "\n",
    "# Pre-process the numerical attributes - standardize the variables\n",
    "attr_nums = ['AGE', 'RAVLT_immediate', 'RAVLT_learning','RAVLT_forgetting', 'ADAS13', 'CATANIMSC']\n",
    "\n",
    "means = {attr_num: np.mean(x_train[attr_num]) for attr_num in attr_nums}\n",
    "sds = {attr_num: np.std(x_train[attr_num], ddof=1) for attr_num in attr_nums}\n",
    "\n",
    "for attr_num in attr_nums:\n",
    "    x_train[attr_num] = (x_train[attr_num] - means[attr_num]) / sds[attr_num]\n",
    "    x_test[attr_num] = (x_test[attr_num] - means[attr_num]) / sds[attr_num]"
   ]
  },
  {
   "cell_type": "markdown",
   "metadata": {},
   "source": [
    "- ** Data was split into 60% training set and 40% test set. **\n",
    "- ** All continous variables were standardized:**\n",
    "<br/> The majority of classifiers calculate the distance between two points by the Euclidean distance. If one of the features has a broad range of values, the distance will be governed by this particular feature. We notice that the range of values of raw data varies widely, these continuous features should be normalized so that each feature contributes approximately proportionately to the final distance."
   ]
  },
  {
   "cell_type": "code",
   "execution_count": 10,
   "metadata": {},
   "outputs": [
    {
     "name": "stdout",
     "output_type": "stream",
     "text": [
      "Number of cases in the training set is 6\n"
     ]
    }
   ],
   "source": [
    "print('Number of cases in the training set is', np.sum(y_train))"
   ]
  },
  {
   "cell_type": "markdown",
   "metadata": {},
   "source": [
    "**Imbalanced Data Problem**\n",
    "<br/> There are many more patiants that didn't reverse (Y = 0) than reversed subjects (Y = 1). Therefore, classification accuracy may not be the best metric to evaluate a classifier's performance. As an alternative, we use the confusion matrix to evaluate the classifier."
   ]
  },
  {
   "cell_type": "markdown",
   "metadata": {},
   "source": [
    "## 2. PCA Analysis"
   ]
  },
  {
   "cell_type": "code",
   "execution_count": 11,
   "metadata": {},
   "outputs": [
    {
     "data": {
      "image/png": "[encoded data removed]",
      "text/plain": [
       "<matplotlib.figure.Figure at 0x10d4649b0>"
      ]
     },
     "metadata": {},
     "output_type": "display_data"
    }
   ],
   "source": [
    "# Find the top two principal components for the gene expression data\n",
    "pca = PCA(n_components=2)\n",
    "x_train_pca = pca.fit_transform(x_train)\n",
    "\n",
    "# Create a dataset for the top two principle components\n",
    "train_pca = pd.DataFrame({'MCI reversion': y_train})\n",
    "train_pca['pc1'] = x_train_pca[:,0]\n",
    "train_pca['pc2'] = x_train_pca[:,1]\n",
    "\n",
    "# Generate a scatter plot\n",
    "plt.scatter(train_pca[train_pca['MCI reversion']==0]['pc1'], train_pca[train_pca['MCI reversion']==0]['pc2'], label='Did Not reverse to normal')\n",
    "plt.scatter(train_pca[train_pca['MCI reversion']==1]['pc1'], train_pca[train_pca['MCI reversion']==1]['pc2'], label='Reversed to normal ')\n",
    "plt.xlabel('PC1')\n",
    "plt.ylabel('PC2')\n",
    "plt.title('PCA - Scatter Plot')\n",
    "plt.legend();"
   ]
  },
  {
   "cell_type": "markdown",
   "metadata": {
    "collapsed": true
   },
   "source": [
    "**PCA**\n",
    "<br/>Each dot here represents a sample. Patients who did not reverse to normal are clustering on the left; patients who reversed to normal are clustering on the right.  "
   ]
  },
  {
   "cell_type": "markdown",
   "metadata": {},
   "source": [
    "## 3. Classification Models"
   ]
  },
  {
   "cell_type": "code",
   "execution_count": 12,
   "metadata": {
    "collapsed": true
   },
   "outputs": [],
   "source": [
    "# Functions to calculate TPR and FPR\n",
    "def tpr(confusion_matrix):\n",
    "    return confusion_matrix[1][1]/np.sum(confusion_matrix[1])\n",
    "def fpr(confusion_matrix):\n",
    "    return confusion_matrix[0][1]/np.sum(confusion_matrix[0])"
   ]
  },
  {
   "cell_type": "markdown",
   "metadata": {},
   "source": [
    "### a. Logistic Regression\n",
    "We use L2 regularization in logistic regression, with the regularization parameter tuned using 5 fold cross-validation."
   ]
  },
  {
   "cell_type": "code",
   "execution_count": 13,
   "metadata": {
    "collapsed": true
   },
   "outputs": [],
   "source": [
    "# Logistic Regression \n",
    "logistic = LogisticRegressionCV(cv=5, penalty='l2').fit(x_train, y_train)\n",
    "logistic_acc_train = logistic.score(x_train, y_train)\n",
    "logistic_acc_test = logistic.score(x_test, y_test)\n",
    "cm_log = metrics.confusion_matrix(y_train, logistic.predict(x_train))\n",
    "auc_log = metrics.roc_auc_score(y_train, logistic.predict_proba(x_train)[:,1])\n",
    "auc_log_test = metrics.roc_auc_score(y_test, logistic.predict_proba(x_test)[:,1])"
   ]
  },
  {
   "cell_type": "markdown",
   "metadata": {},
   "source": [
    "### b. Linear Discriminant Analysis"
   ]
  },
  {
   "cell_type": "code",
   "execution_count": 14,
   "metadata": {
    "collapsed": true
   },
   "outputs": [],
   "source": [
    "# Linear Discriminant Analysis\n",
    "lda = LinearDiscriminantAnalysis().fit(x_train, y_train)\n",
    "lda_acc_train = lda.score(x_train, y_train)\n",
    "lda_acc_test = lda.score(x_test, y_test)\n",
    "cm_lda = metrics.confusion_matrix(y_train, lda.predict(x_train))\n",
    "auc_lda = metrics.roc_auc_score(y_train, lda.predict_proba(x_train)[:,1])\n",
    "auc_lda_test= metrics.roc_auc_score(y_test, lda.predict_proba(x_test)[:,1])"
   ]
  },
  {
   "cell_type": "markdown",
   "metadata": {},
   "source": [
    "### c. k-NN\n",
    "We fit k-NN regression models to the training set using different values of k (1 to 20) and choose the best k using 5 fold cross-validation."
   ]
  },
  {
   "cell_type": "code",
   "execution_count": 15,
   "metadata": {},
   "outputs": [
    {
     "name": "stdout",
     "output_type": "stream",
     "text": [
      "The optimal number of neighbors is 2\n"
     ]
    }
   ],
   "source": [
    "# k-NN\n",
    "neighbors = np.arange(1,20)\n",
    "\n",
    "# Perform 5-fold cross validation to choose the optimal number of neighbors\n",
    "cv_scores_knn = []\n",
    "for k in neighbors:\n",
    "    knn = KNeighborsClassifier(n_neighbors=k)\n",
    "    scores = cross_val_score(knn, x_train, y_train, cv=5, scoring='accuracy')\n",
    "    cv_scores_knn.append(scores.mean())\n",
    "\n",
    "# Determine the best k\n",
    "optimal_k = neighbors[np.argmax(cv_scores_knn)]\n",
    "print (\"The optimal number of neighbors is %d\" % optimal_k)"
   ]
  },
  {
   "cell_type": "code",
   "execution_count": 16,
   "metadata": {
    "collapsed": true
   },
   "outputs": [],
   "source": [
    "# Fit k-NN model using the optimal number of neighbors\n",
    "knn = KNeighborsClassifier(optimal_k).fit(x_train, y_train)\n",
    "knn_acc_train = knn.score(x_train, y_train)\n",
    "knn_acc_test = knn.score(x_test, y_test)\n",
    "cm_knn = metrics.confusion_matrix(y_train, knn.predict(x_train))\n",
    "auc_knn= metrics.roc_auc_score(y_train, knn.predict_proba(x_train)[:,1])\n",
    "auc_knn_test = metrics.roc_auc_score(y_test, knn.predict_proba(x_test)[:,1])"
   ]
  },
  {
   "cell_type": "markdown",
   "metadata": {},
   "source": [
    "### d. Decision Tree\n",
    "We fit decision tree models to the training set and use 5-fold cross-validation to choose the best (maximum) depth for the tree."
   ]
  },
  {
   "cell_type": "code",
   "execution_count": 97,
   "metadata": {},
   "outputs": [
    {
     "name": "stdout",
     "output_type": "stream",
     "text": [
      "The best maximum depth is 21\n"
     ]
    }
   ],
   "source": [
    "# Decision tree\n",
    "depths = np.arange(2,25)\n",
    "\n",
    "# Use 5-fold cross-validation to choose the (maximum) depth for the tree\n",
    "cv_scores_dt = []\n",
    "for depth in depths:\n",
    "    dt = DecisionTreeClassifier(max_depth=depth)\n",
    "    scores = cross_val_score(dt, x_train, y_train, cv=5, scoring='accuracy')\n",
    "    cv_scores_dt.append(scores.mean())\n",
    "\n",
    "# Determine the best (maximum) depth\n",
    "best_depth = depths[np.argmax(cv_scores_dt)]\n",
    "print('The best maximum depth is %d'%(best_depth))"
   ]
  },
  {
   "cell_type": "code",
   "execution_count": 98,
   "metadata": {
    "collapsed": true
   },
   "outputs": [],
   "source": [
    "# Fit decision tree model using the best (maximum) depth\n",
    "dt = DecisionTreeClassifier(max_depth=best_depth)\n",
    "dt.fit(x_train, y_train)\n",
    "dt_acc_train = dt.score(x_train, y_train)\n",
    "dt_acc_test = dt.score(x_test, y_test)\n",
    "cm_dt = metrics.confusion_matrix(y_train, dt.predict(x_train))\n",
    "auc_dt = metrics.roc_auc_score(y_train, dt.predict_proba(x_train)[:,1])\n",
    "auc_dt_test = metrics.roc_auc_score(y_test, dt.predict_proba(x_test)[:,1])"
   ]
  },
  {
   "cell_type": "markdown",
   "metadata": {},
   "source": [
    "### e. Random Forest\n",
    "We fit random forest models to the training set and use 5-fold cross-validation to choose the optimal value for the number of predictors and trees."
   ]
  },
  {
   "cell_type": "code",
   "execution_count": 104,
   "metadata": {},
   "outputs": [
    {
     "name": "stdout",
     "output_type": "stream",
     "text": [
      "The optimal value for the number of predictors is 4\n",
      "The optimal value for the number of trees is 4\n"
     ]
    }
   ],
   "source": [
    "# Use 5-fold cross-validation to choose the optimal value for the number of predictors\n",
    "n_features = np.arange(1,8)\n",
    "n_trees = 2**np.arange(1,9)\n",
    "\n",
    "cv_scores_rf = {}\n",
    "for n_feature in n_features:\n",
    "    for n_tree in n_trees:\n",
    "        rf = RandomForestClassifier(n_estimators=n_tree, max_features=n_feature, max_depth=best_depth)\n",
    "        scores = cross_val_score(rf, x_train, y_train, cv=5, scoring='accuracy')\n",
    "        cv_scores_rf[(n_feature,n_tree)] = scores.mean()\n",
    "        \n",
    "best_n_feature, best_n_tree = max(cv_scores_rf, key=cv_scores_rf.get)\n",
    "print('The optimal value for the number of predictors is %d\\nThe optimal value for the number of trees is %d'%(best_n_feature,best_n_tree))"
   ]
  },
  {
   "cell_type": "code",
   "execution_count": 105,
   "metadata": {
    "collapsed": true
   },
   "outputs": [],
   "source": [
    "# Fit the RF model using the optimal number of trees and the optimal number of predictors\n",
    "rf = RandomForestClassifier(n_estimators=best_n_tree, max_features=best_n_feature, max_depth=best_depth)\n",
    "rf.fit(x_train, y_train)\n",
    "rf_acc_train = rf.score(x_train, y_train)\n",
    "rf_acc_test = rf.score(x_test, y_test)\n",
    "cm_rf = metrics.confusion_matrix(y_train, rf.predict(x_train))\n",
    "auc_rf= metrics.roc_auc_score(y_train, rf.predict_proba(x_train)[:,1])\n",
    "auc_rf_test= metrics.roc_auc_score(y_test, rf.predict_proba(x_test)[:,1])"
   ]
  },
  {
   "cell_type": "code",
   "execution_count": 106,
   "metadata": {},
   "outputs": [
    {
     "data": {
      "image/png": "[encoded data removed]",
      "text/plain": [
       "<matplotlib.figure.Figure at 0x10dcf0fd0>"
      ]
     },
     "metadata": {},
     "output_type": "display_data"
    }
   ],
   "source": [
    "# Feature importance\n",
    "plt.figure(figsize=(12,10))\n",
    "names = x_train.columns.get_values()\n",
    "importances = rf.feature_importances_\n",
    "indices = np.argsort(importances)\n",
    "plt.title('Feature Importances')\n",
    "plt.barh(range(len(indices)), importances[indices], color='b', align='center')\n",
    "plt.yticks(range(len(indices)), names[indices])\n",
    "plt.xlabel('Relative Importance');"
   ]
  },
  {
   "cell_type": "markdown",
   "metadata": {},
   "source": [
    "### f. Boosting\n",
    "We fit Boosting models to the training set and apply 5-fold cross-validation to choose the optimal number of trees for the ensemble and the optimal tree depth for the base learners."
   ]
  },
  {
   "cell_type": "code",
   "execution_count": 86,
   "metadata": {},
   "outputs": [
    {
     "name": "stdout",
     "output_type": "stream",
     "text": [
      "The optimal maximum depth is 2\n",
      "The optimal number of trees is 16\n"
     ]
    }
   ],
   "source": [
    "# Boosting\n",
    "n_tree = 2**np.arange(1,5)\n",
    "depths = [2,5,10,None]\n",
    "\n",
    "cv_scores_bo = {}\n",
    "for depth in depths:\n",
    "    for n in n_tree:\n",
    "        adaboost = AdaBoostClassifier(DecisionTreeClassifier(max_depth=depth), n_estimators=n, learning_rate=0.05)\n",
    "        scores = cross_val_score(adaboost, x_train, y_train, cv=5, scoring='accuracy')\n",
    "        cv_scores_bo[(depth,n)] = scores.mean()\n",
    "best_depth, best_n_tree = max(cv_scores_bo, key=cv_scores_bo.get)\n",
    "print('The optimal maximum depth is %d\\nThe optimal number of trees is %d'%(best_depth, best_n_tree))"
   ]
  },
  {
   "cell_type": "code",
   "execution_count": 87,
   "metadata": {
    "collapsed": true
   },
   "outputs": [],
   "source": [
    "# Fit the AdaBoost model using the optimal number of trees and the optimal maximum depth\n",
    "adaboost = AdaBoostClassifier(DecisionTreeClassifier(max_depth=best_depth), n_estimators=best_n_tree, learning_rate=0.05)\n",
    "adaboost.fit(x_train, y_train)\n",
    "adaboost_acc_train = adaboost.score(x_train, y_train)\n",
    "adaboost_acc_test = adaboost.score(x_test, y_test)\n",
    "cm_adaboost = metrics.confusion_matrix(y_train, adaboost.predict(x_train))\n",
    "auc_adaboost= metrics.roc_auc_score(y_train, adaboost.predict_proba(x_train)[:,1])\n",
    "auc_adaboost_test= metrics.roc_auc_score(y_test, adaboost.predict_proba(x_test)[:,1])"
   ]
  },
  {
   "cell_type": "markdown",
   "metadata": {},
   "source": [
    "### Model Performance"
   ]
  },
  {
   "cell_type": "code",
   "execution_count": 107,
   "metadata": {},
   "outputs": [
    {
     "data": {
      "text/html": [
       "<div>\n",
       "<style>\n",
       "    .dataframe thead tr:only-child th {\n",
       "        text-align: right;\n",
       "    }\n",
       "\n",
       "    .dataframe thead th {\n",
       "        text-align: left;\n",
       "    }\n",
       "\n",
       "    .dataframe tbody tr th {\n",
       "        vertical-align: top;\n",
       "    }\n",
       "</style>\n",
       "<table border=\"1\" class=\"dataframe\">\n",
       "  <thead>\n",
       "    <tr style=\"text-align: right;\">\n",
       "      <th></th>\n",
       "      <th>Training accuracy</th>\n",
       "      <th>Test accuracy</th>\n",
       "      <th>True postive rate</th>\n",
       "      <th>False postive rate</th>\n",
       "      <th>AUC_training</th>\n",
       "      <th>AUC_test</th>\n",
       "    </tr>\n",
       "  </thead>\n",
       "  <tbody>\n",
       "    <tr>\n",
       "      <th>Logistic regression</th>\n",
       "      <td>0.941176</td>\n",
       "      <td>0.915663</td>\n",
       "      <td>0.000000</td>\n",
       "      <td>0.000000</td>\n",
       "      <td>0.878472</td>\n",
       "      <td>0.832707</td>\n",
       "    </tr>\n",
       "    <tr>\n",
       "      <th>LDA</th>\n",
       "      <td>0.950980</td>\n",
       "      <td>0.891566</td>\n",
       "      <td>0.333333</td>\n",
       "      <td>0.010417</td>\n",
       "      <td>0.947917</td>\n",
       "      <td>0.642857</td>\n",
       "    </tr>\n",
       "    <tr>\n",
       "      <th>k-NN</th>\n",
       "      <td>0.941176</td>\n",
       "      <td>0.903614</td>\n",
       "      <td>0.000000</td>\n",
       "      <td>0.000000</td>\n",
       "      <td>0.973958</td>\n",
       "      <td>0.588346</td>\n",
       "    </tr>\n",
       "    <tr>\n",
       "      <th>Decision Tree</th>\n",
       "      <td>1.000000</td>\n",
       "      <td>0.903614</td>\n",
       "      <td>1.000000</td>\n",
       "      <td>0.000000</td>\n",
       "      <td>1.000000</td>\n",
       "      <td>0.558271</td>\n",
       "    </tr>\n",
       "    <tr>\n",
       "      <th>Random Forest</th>\n",
       "      <td>0.980392</td>\n",
       "      <td>0.915663</td>\n",
       "      <td>0.666667</td>\n",
       "      <td>0.000000</td>\n",
       "      <td>1.000000</td>\n",
       "      <td>0.884398</td>\n",
       "    </tr>\n",
       "    <tr>\n",
       "      <th>Adaboost</th>\n",
       "      <td>1.000000</td>\n",
       "      <td>0.915663</td>\n",
       "      <td>1.000000</td>\n",
       "      <td>0.000000</td>\n",
       "      <td>1.000000</td>\n",
       "      <td>0.654135</td>\n",
       "    </tr>\n",
       "  </tbody>\n",
       "</table>\n",
       "</div>"
      ],
      "text/plain": [
       "                     Training accuracy  Test accuracy  True postive rate  \\\n",
       "Logistic regression           0.941176       0.915663           0.000000   \n",
       "LDA                           0.950980       0.891566           0.333333   \n",
       "k-NN                          0.941176       0.903614           0.000000   \n",
       "Decision Tree                 1.000000       0.903614           1.000000   \n",
       "Random Forest                 0.980392       0.915663           0.666667   \n",
       "Adaboost                      1.000000       0.915663           1.000000   \n",
       "\n",
       "                     False postive rate  AUC_training  AUC_test  \n",
       "Logistic regression            0.000000      0.878472  0.832707  \n",
       "LDA                            0.010417      0.947917  0.642857  \n",
       "k-NN                           0.000000      0.973958  0.588346  \n",
       "Decision Tree                  0.000000      1.000000  0.558271  \n",
       "Random Forest                  0.000000      1.000000  0.884398  \n",
       "Adaboost                       0.000000      1.000000  0.654135  "
      ]
     },
     "execution_count": 107,
     "metadata": {},
     "output_type": "execute_result"
    }
   ],
   "source": [
    "model = ['Logistic regression','LDA','k-NN','Decision Tree','Random Forest','Adaboost']\n",
    "column = ['Training accuracy','Test accuracy','True postive rate','False postive rate','AUC_training','AUC_test']\n",
    "\n",
    "models = pd.DataFrame(index=model, columns=column)\n",
    "models['Training accuracy']=[logistic_acc_train, lda_acc_train,knn_acc_train,dt_acc_train,rf_acc_train,adaboost_acc_train]\n",
    "models['Test accuracy']=[logistic_acc_test, lda_acc_test,knn_acc_test,dt_acc_test,rf_acc_test,adaboost_acc_test]\n",
    "models['True postive rate']=[tpr(cm_log), tpr(cm_lda),tpr(cm_knn),tpr(cm_dt),tpr(cm_rf),tpr(cm_adaboost)]\n",
    "models['False postive rate']=[fpr(cm_log), fpr(cm_lda),fpr(cm_knn),fpr(cm_dt),fpr(cm_rf),fpr(cm_adaboost)]\n",
    "models['AUC_training']=[auc_log, auc_lda,auc_knn,auc_dt,auc_rf,auc_adaboost]\n",
    "models['AUC_test']=[auc_log_test, auc_lda_test,auc_knn_test,auc_dt_test,auc_rf_test,auc_adaboost_test]\n",
    "models"
   ]
  },
  {
   "cell_type": "markdown",
   "metadata": {},
   "source": [
    "- **Interpretation for model performance**\n",
    "    - Not surprisingly, the differences of accuracies are too small for us to select the best classifier. The dataset is extremely imbalanced with the majority of non-reverters (Y=0). The classificaton accuracies are not very different from the all 0's classifier that classifies everyone as non-reverter.\n",
    "    - First, we use the true postive rate to evaluate a classifier's performance. Decision tree, random forest and adaboost are better than other models since they have relatively high TPR; The false postive rates are low for all models; Then, we compare the AUC on the test set for the three selected models. Random forest has the largest AUC_test. Therefore, we select the random forest model as our final model."
   ]
  },
  {
   "cell_type": "markdown",
   "metadata": {},
   "source": [
    "### ROC curve for our best model - Random Forest"
   ]
  },
  {
   "cell_type": "code",
   "execution_count": 110,
   "metadata": {},
   "outputs": [
    {
     "data": {
      "image/png": "[encoded data removed]",
      "text/plain": [
       "<matplotlib.figure.Figure at 0x111d72080>"
      ]
     },
     "metadata": {},
     "output_type": "display_data"
    }
   ],
   "source": [
    "# Display the ROC curve for both the fitted classifier and the all 0's classifier on the test set. \n",
    "fpr1, tpr1, thresholds1 = metrics.roc_curve(y_test, rf.predict_proba(x_test)[:,1])\n",
    "fpr2, tpr2, thresholds2 = metrics.roc_curve(y_test, np.zeros(len(y_test)))\n",
    "auc1 = metrics.roc_auc_score(y_test, rf.predict_proba(x_test)[:,1])\n",
    "auc2 = metrics.roc_auc_score(y_test, np.zeros(len(y_test)))\n",
    "plt.plot(fpr1, tpr1, '.-', alpha=0.8, label='ROC curve for random forest (area = %0.2f)' % (auc1))\n",
    "plt.plot(fpr2, tpr2, '.-', alpha=0.8, label='ROC curve for all 0\\'s classifier (area = %0.2f)' % (auc2))\n",
    "plt.plot([0, 1], [0, 1], 'k--', alpha=0.2)\n",
    "plt.xlim([-0.01, 1.0])\n",
    "plt.ylim([0.0, 1.05])\n",
    "plt.xlabel('False Positive Rate')\n",
    "plt.ylabel('True Positive Rate')\n",
    "plt.title('ROC Curve')\n",
    "plt.legend(loc=\"lower right\");"
   ]
  },
  {
   "cell_type": "markdown",
   "metadata": {},
   "source": [
    "- **Interpretation for ROC curve**\n",
    "<br/>The ROC curve shows the tradeoff between sensitivity and specificity (any increase in sensitivity will be accompanied by a decrease in specificity). Our ROC close to the left-hand border and then the top border of the ROC space, which indicates a good performance in terms of sensitivity and specificity for our final random forest model."
   ]
  }
 ],
 "metadata": {
  "anaconda-cloud": {},
  "kernelspec": {
   "display_name": "Python 3",
   "language": "python",
   "name": "python3"
  },
  "language_info": {
   "codemirror_mode": {
    "name": "ipython",
    "version": 3
   },
   "file_extension": ".py",
   "mimetype": "text/x-python",
   "name": "python",
   "nbconvert_exporter": "python",
   "pygments_lexer": "ipython3",
   "version": "3.6.3"
  },
  "nbpresent": {
   "slides": {},
   "themes": {
    "default": "8f8ab76d-01be-40c1-a80e-4985c9b03ba9",
    "theme": {
     "8f8ab76d-01be-40c1-a80e-4985c9b03ba9": {
      "id": "8f8ab76d-01be-40c1-a80e-4985c9b03ba9",
      "palette": {
       "19cc588f-0593-49c9-9f4b-e4d7cc113b1c": {
        "id": "19cc588f-0593-49c9-9f4b-e4d7cc113b1c",
        "rgb": [
         252,
         252,
         252
        ]
       },
       "31af15d2-7e15-44c5-ab5e-e04b16a89eff": {
        "id": "31af15d2-7e15-44c5-ab5e-e04b16a89eff",
        "rgb": [
         68,
         68,
         68
        ]
       },
       "50f92c45-a630-455b-aec3-788680ec7410": {
        "id": "50f92c45-a630-455b-aec3-788680ec7410",
        "rgb": [
         155,
         177,
         192
        ]
       },
       "c5cc3653-2ee1-402a-aba2-7caae1da4f6c": {
        "id": "c5cc3653-2ee1-402a-aba2-7caae1da4f6c",
        "rgb": [
         43,
         126,
         184
        ]
       },
       "efa7f048-9acb-414c-8b04-a26811511a21": {
        "id": "efa7f048-9acb-414c-8b04-a26811511a21",
        "rgb": [
         25.118061674008803,
         73.60176211453744,
         107.4819383259912
        ]
       }
      },
      "rules": {
       "blockquote": {
        "color": "50f92c45-a630-455b-aec3-788680ec7410"
       },
       "code": {
        "font-family": "Anonymous Pro"
       },
       "h1": {
        "color": "c5cc3653-2ee1-402a-aba2-7caae1da4f6c",
        "font-family": "Lato",
        "font-size": 8
       },
       "h2": {
        "color": "c5cc3653-2ee1-402a-aba2-7caae1da4f6c",
        "font-family": "Lato",
        "font-size": 6
       },
       "h3": {
        "color": "50f92c45-a630-455b-aec3-788680ec7410",
        "font-family": "Lato",
        "font-size": 5.5
       },
       "h4": {
        "color": "c5cc3653-2ee1-402a-aba2-7caae1da4f6c",
        "font-family": "Lato",
        "font-size": 5
       },
       "h5": {
        "font-family": "Lato"
       },
       "h6": {
        "font-family": "Lato"
       },
       "h7": {
        "font-family": "Lato"
       },
       "pre": {
        "font-family": "Anonymous Pro",
        "font-size": 4
       }
      },
      "text-base": {
       "font-family": "Merriweather",
       "font-size": 4
      }
     }
    }
   }
  }
 },
 "nbformat": 4,
 "nbformat_minor": 2
}
