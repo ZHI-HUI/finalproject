{
 "cells": [
  {
   "cell_type": "markdown",
   "metadata": {},
   "source": [
    "# CS 109a Final Project - Modeling\n",
    "## Group 50"
   ]
  },
  {
   "cell_type": "markdown",
   "metadata": {},
   "source": [
    "## 0. Import libraries"
   ]
  },
  {
   "cell_type": "code",
   "execution_count": 14,
   "metadata": {
    "collapsed": true
   },
   "outputs": [],
   "source": [
    "import numpy as np\n",
    "import pandas as pd\n",
    "import matplotlib\n",
    "import matplotlib.pyplot as plt\n",
    "from sklearn.linear_model import LogisticRegressionCV\n",
    "from sklearn.linear_model import LogisticRegression\n",
    "from sklearn.model_selection import train_test_split\n",
    "import sklearn.metrics as metrics\n",
    "from sklearn.discriminant_analysis import LinearDiscriminantAnalysis\n",
    "from sklearn.neighbors import KNeighborsClassifier\n",
    "from sklearn.model_selection import cross_val_score\n",
    "from sklearn.model_selection import KFold\n",
    "from sklearn.tree import DecisionTreeClassifier\n",
    "from sklearn.ensemble import RandomForestClassifier\n",
    "from sklearn.ensemble import AdaBoostClassifier\n",
    "import seaborn as sns\n",
    "import math\n",
    "%matplotlib inline\n",
    "plt.style.use('ggplot')"
   ]
  },
  {
   "cell_type": "markdown",
   "metadata": {},
   "source": [
    "## 1. Load Data"
   ]
  },
  {
   "cell_type": "code",
   "execution_count": 15,
   "metadata": {
    "collapsed": true
   },
   "outputs": [],
   "source": [
    "## Divide to train and test\n",
    "data = pd.read_csv(\"data_model.csv\",index_col=0)\n",
    "data = data.drop('ABETA',1).drop('TAU',1).drop('PTAU',1)\n",
    "data = data[np.isfinite(data['ADAS13_bl'])]\n",
    "np.random.seed(9001)\n",
    "msk = np.random.rand(len(data)) < 0.75\n",
    "data_train = data[msk]\n",
    "data_test = data[~msk]\n",
    "\n",
    "X_train = data_train.drop('MCI_reversion_2y',1)\n",
    "y_train = data_train['MCI_reversion_2y'].values\n",
    "X_test = data_test.drop('MCI_reversion_2y',1)\n",
    "y_test = data_test['MCI_reversion_2y'].values\n",
    "\n",
    "## Normalization\n",
    "attr_nums = ['AGE','RAVLT_immediate_bl','ADAS13_bl','CATANIMSC']\n",
    "attr_cats = ['PTGENDER', 'PTMARRY', 'APOE4']\n",
    "\n",
    "# Pre-process the categorical attributes\n",
    "x_train = pd.get_dummies(X_train, columns=attr_cats, drop_first=True)\n",
    "x_test = pd.get_dummies(X_test, columns=attr_cats, drop_first=True)\n",
    "\n",
    "# Pre-process the numerical attributes\n",
    "means = {attr_num: np.mean(x_train[attr_num]) for attr_num in attr_nums}\n",
    "sds = {attr_num: np.std(x_train[attr_num], ddof=1) for attr_num in attr_nums}\n",
    "for attr_num in attr_nums:\n",
    "    x_train[attr_num] = (x_train[attr_num] - means[attr_num]) / sds[attr_num]\n",
    "    x_test[attr_num] = (x_test[attr_num] - means[attr_num]) / sds[attr_num]"
   ]
  },
  {
   "cell_type": "markdown",
   "metadata": {},
   "source": [
    "## 2. Classification Model"
   ]
  },
  {
   "cell_type": "code",
   "execution_count": 16,
   "metadata": {
    "collapsed": true
   },
   "outputs": [],
   "source": [
    "# TPR and FPR\n",
    "def tpr(confusion_matrix):\n",
    "    return confusion_matrix[1][1]/np.sum(confusion_matrix[1])\n",
    "def fpr(confusion_matrix):\n",
    "    return confusion_matrix[0][1]/np.sum(confusion_matrix[0])"
   ]
  },
  {
   "cell_type": "markdown",
   "metadata": {},
   "source": [
    " ### Logistic Regression"
   ]
  },
  {
   "cell_type": "code",
   "execution_count": 17,
   "metadata": {
    "collapsed": true
   },
   "outputs": [],
   "source": [
    "##  Logistic Regression \n",
    "logistic = LogisticRegressionCV(cv=5, penalty='l2').fit(x_train, y_train)\n",
    "logistic_acc_train = logistic.score(x_train, y_train)\n",
    "logistic_acc_test = logistic.score(x_test, y_test)\n",
    "cm_log = metrics.confusion_matrix(y_train, logistic.predict(x_train))\n",
    "auc_log= metrics.roc_auc_score(y_train, logistic.predict_proba(x_train)[:,1])"
   ]
  },
  {
   "cell_type": "markdown",
   "metadata": {},
   "source": [
    "### Linear Discriminant Analysis"
   ]
  },
  {
   "cell_type": "code",
   "execution_count": 18,
   "metadata": {
    "collapsed": true
   },
   "outputs": [],
   "source": [
    "## Linear Discriminant Analysis\n",
    "lda = LinearDiscriminantAnalysis().fit(x_train, y_train)\n",
    "lda_acc_train = lda.score(x_train, y_train)\n",
    "lda_acc_test = lda.score(x_test, y_test)\n",
    "cm_lda = metrics.confusion_matrix(y_train, lda.predict(x_train))\n",
    "auc_lda= metrics.roc_auc_score(y_train, lda.predict_proba(x_train)[:,1])\n",
    "auc_log_test= metrics.roc_auc_score(y_test, logistic.predict_proba(x_test)[:,1])\n",
    "auc_lda_test= metrics.roc_auc_score(y_test, lda.predict_proba(x_test)[:,1])"
   ]
  },
  {
   "cell_type": "markdown",
   "metadata": {},
   "source": [
    "### KNN"
   ]
  },
  {
   "cell_type": "code",
   "execution_count": 19,
   "metadata": {},
   "outputs": [
    {
     "name": "stdout",
     "output_type": "stream",
     "text": [
      "The optimal number of neighbors is 6\n"
     ]
    }
   ],
   "source": [
    "## KNN\n",
    "neighbors = list(range(1,20))\n",
    "cv_scores = []\n",
    "# perform 5-fold cross validation\n",
    "for k in neighbors:\n",
    "    knn = KNeighborsClassifier(n_neighbors=k)\n",
    "    scores = cross_val_score(knn, x_train, y_train, cv=5, scoring='accuracy')\n",
    "    cv_scores.append(scores.mean())\n",
    "MSE = [1 - x for x in cv_scores]\n",
    "### determining best k\n",
    "optimal_k = neighbors[MSE.index(min(MSE))]\n",
    "print (\"The optimal number of neighbors is %d\" % optimal_k)\n",
    "knn=KNeighborsClassifier(16).fit(x_train, y_train)\n",
    "knn_acc_train = knn.score(x_train, y_train)\n",
    "knn_acc_test = knn.score(x_test, y_test)\n",
    "cm_knn = metrics.confusion_matrix(y_train, knn.predict(x_train))\n",
    "auc_knn= metrics.roc_auc_score(y_train, knn.predict_proba(x_train)[:,1])\n",
    "auc_knn_test= metrics.roc_auc_score(y_test, knn.predict_proba(x_test)[:,1])"
   ]
  },
  {
   "cell_type": "markdown",
   "metadata": {},
   "source": [
    "### Decision Tree"
   ]
  },
  {
   "cell_type": "code",
   "execution_count": 20,
   "metadata": {},
   "outputs": [
    {
     "name": "stdout",
     "output_type": "stream",
     "text": [
      "The best maximum depth is 3\n"
     ]
    }
   ],
   "source": [
    "## decision tree\n",
    "### Use 5-fold cross-validation to choose the (maximum) depth for the tree\n",
    "depths = range(2,25)\n",
    "cv_scores_dt = []\n",
    "for depth in depths:\n",
    "    dt = DecisionTreeClassifier(max_depth=depth)\n",
    "    scores = cross_val_score(dt, x_train, y_train, cv=5, scoring='accuracy')\n",
    "    cv_scores_dt.append(scores.mean())\n",
    "best_depth = depths[np.argmax(cv_scores_dt)]\n",
    "print('The best maximum depth is %d'%(best_depth))\n",
    "\n",
    "# Fit a decision tree model to the training set\n",
    "dt = DecisionTreeClassifier(max_depth=best_depth)\n",
    "dt.fit(x_train, y_train)\n",
    "\n",
    "dt_acc_train = dt.score(x_train, y_train)\n",
    "dt_acc_test = dt.score(x_test, y_test)\n",
    "cm_dt = metrics.confusion_matrix(y_train, dt.predict(x_train))\n",
    "auc_dt= metrics.roc_auc_score(y_train, dt.predict_proba(x_train)[:,1])\n",
    "auc_dt_test= metrics.roc_auc_score(y_test, dt.predict_proba(x_test)[:,1])"
   ]
  },
  {
   "cell_type": "markdown",
   "metadata": {},
   "source": [
    "### Random Forest"
   ]
  },
  {
   "cell_type": "code",
   "execution_count": 21,
   "metadata": {},
   "outputs": [
    {
     "data": {
      "text/html": [
       "<div>\n",
       "<style>\n",
       "    .dataframe thead tr:only-child th {\n",
       "        text-align: right;\n",
       "    }\n",
       "\n",
       "    .dataframe thead th {\n",
       "        text-align: left;\n",
       "    }\n",
       "\n",
       "    .dataframe tbody tr th {\n",
       "        vertical-align: top;\n",
       "    }\n",
       "</style>\n",
       "<table border=\"1\" class=\"dataframe\">\n",
       "  <thead>\n",
       "    <tr style=\"text-align: right;\">\n",
       "      <th></th>\n",
       "      <th>Number of trees</th>\n",
       "      <th>Training accuracy</th>\n",
       "      <th>Test accuracy</th>\n",
       "    </tr>\n",
       "  </thead>\n",
       "  <tbody>\n",
       "    <tr>\n",
       "      <th>0</th>\n",
       "      <td>2</td>\n",
       "      <td>0.938462</td>\n",
       "      <td>0.928571</td>\n",
       "    </tr>\n",
       "    <tr>\n",
       "      <th>1</th>\n",
       "      <td>4</td>\n",
       "      <td>0.938462</td>\n",
       "      <td>0.946429</td>\n",
       "    </tr>\n",
       "    <tr>\n",
       "      <th>2</th>\n",
       "      <td>8</td>\n",
       "      <td>0.938462</td>\n",
       "      <td>0.946429</td>\n",
       "    </tr>\n",
       "    <tr>\n",
       "      <th>3</th>\n",
       "      <td>16</td>\n",
       "      <td>0.953846</td>\n",
       "      <td>0.946429</td>\n",
       "    </tr>\n",
       "    <tr>\n",
       "      <th>4</th>\n",
       "      <td>32</td>\n",
       "      <td>0.946154</td>\n",
       "      <td>0.946429</td>\n",
       "    </tr>\n",
       "    <tr>\n",
       "      <th>5</th>\n",
       "      <td>64</td>\n",
       "      <td>0.946154</td>\n",
       "      <td>0.946429</td>\n",
       "    </tr>\n",
       "    <tr>\n",
       "      <th>6</th>\n",
       "      <td>128</td>\n",
       "      <td>0.946154</td>\n",
       "      <td>0.946429</td>\n",
       "    </tr>\n",
       "    <tr>\n",
       "      <th>7</th>\n",
       "      <td>256</td>\n",
       "      <td>0.946154</td>\n",
       "      <td>0.946429</td>\n",
       "    </tr>\n",
       "  </tbody>\n",
       "</table>\n",
       "</div>"
      ],
      "text/plain": [
       "   Number of trees  Training accuracy  Test accuracy\n",
       "0                2           0.938462       0.928571\n",
       "1                4           0.938462       0.946429\n",
       "2                8           0.938462       0.946429\n",
       "3               16           0.953846       0.946429\n",
       "4               32           0.946154       0.946429\n",
       "5               64           0.946154       0.946429\n",
       "6              128           0.946154       0.946429\n",
       "7              256           0.946154       0.946429"
      ]
     },
     "execution_count": 21,
     "metadata": {},
     "output_type": "execute_result"
    }
   ],
   "source": [
    "##RF\n",
    "### Fit random forest models to the training set for different number of trees\n",
    "n_trees = 2**np.arange(1,9)\n",
    "rf_acc_train = []\n",
    "rf_acc_test = []\n",
    "for n_tree in n_trees:\n",
    "    rf = RandomForestClassifier(n_estimators=n_tree, max_features='sqrt', max_depth=best_depth)\n",
    "    rf.fit(x_train, y_train)\n",
    "    rf_acc_train.append(rf.score(x_train, y_train))\n",
    "    rf_acc_test.append(rf.score(x_test, y_test))\n",
    "df_rf = pd.DataFrame()\n",
    "df_rf['Number of trees'] = n_trees\n",
    "df_rf['Training accuracy'] = rf_acc_train\n",
    "df_rf['Test accuracy'] = rf_acc_test\n",
    "df_rf\n"
   ]
  },
  {
   "cell_type": "code",
   "execution_count": 22,
   "metadata": {
    "collapsed": true
   },
   "outputs": [],
   "source": [
    "rf = RandomForestClassifier(n_estimators=8, max_features='sqrt', max_depth=best_depth)\n",
    "rf.fit(x_train, y_train)\n",
    "rf_acc_train = rf.score(x_train, y_train)\n",
    "rf_acc_test = rf.score(x_test, y_test)\n",
    "cm_rf = metrics.confusion_matrix(y_train, rf.predict(x_train))\n",
    "auc_rf= metrics.roc_auc_score(y_train, rf.predict_proba(x_train)[:,1])\n",
    "auc_rf_test= metrics.roc_auc_score(y_test, rf.predict_proba(x_test)[:,1])"
   ]
  },
  {
   "cell_type": "markdown",
   "metadata": {},
   "source": [
    "### Boosting"
   ]
  },
  {
   "cell_type": "code",
   "execution_count": 23,
   "metadata": {},
   "outputs": [
    {
     "name": "stdout",
     "output_type": "stream",
     "text": [
      "The optimal maximum depth is 2\n",
      "The optimal number of trees is 16\n"
     ]
    }
   ],
   "source": [
    "## Boosting\n",
    "n_tree = 2**np.arange(1,5)\n",
    "depths = [1,2,10,None]\n",
    "cv_scores_bo = {}\n",
    "for depth in depths:\n",
    "    for n in n_tree:\n",
    "        adaboost = AdaBoostClassifier(DecisionTreeClassifier(max_depth=depth), n_estimators=n, learning_rate=0.05)\n",
    "        scores = cross_val_score(adaboost, x_train, y_train, cv=5, scoring='accuracy')\n",
    "        cv_scores_bo[(depth,n)] = scores.mean()\n",
    "best_depth, best_n_tree = max(cv_scores_bo, key=cv_scores_bo.get)\n",
    "print('The optimal maximum depth is %d\\nThe optimal number of trees is %d'%(best_depth, best_n_tree))\n",
    "adaboost = AdaBoostClassifier(DecisionTreeClassifier(max_depth=best_depth), n_estimators=best_n_tree, learning_rate=0.05)\n",
    "adaboost.fit(x_train, y_train)\n",
    "adaboost_acc_train = adaboost.score(x_train, y_train)\n",
    "adaboost_acc_test = adaboost.score(x_test, y_test)\n",
    "cm_adaboost = metrics.confusion_matrix(y_train, adaboost.predict(x_train))\n",
    "auc_adaboost= metrics.roc_auc_score(y_train, adaboost.predict_proba(x_train)[:,1])\n",
    "auc_adaboost_test= metrics.roc_auc_score(y_test, adaboost.predict_proba(x_test)[:,1])"
   ]
  },
  {
   "cell_type": "markdown",
   "metadata": {},
   "source": [
    "### Model Performance"
   ]
  },
  {
   "cell_type": "code",
   "execution_count": 24,
   "metadata": {},
   "outputs": [
    {
     "data": {
      "text/html": [
       "<div>\n",
       "<style>\n",
       "    .dataframe thead tr:only-child th {\n",
       "        text-align: right;\n",
       "    }\n",
       "\n",
       "    .dataframe thead th {\n",
       "        text-align: left;\n",
       "    }\n",
       "\n",
       "    .dataframe tbody tr th {\n",
       "        vertical-align: top;\n",
       "    }\n",
       "</style>\n",
       "<table border=\"1\" class=\"dataframe\">\n",
       "  <thead>\n",
       "    <tr style=\"text-align: right;\">\n",
       "      <th></th>\n",
       "      <th>Training accuracy</th>\n",
       "      <th>Test accuracy</th>\n",
       "      <th>True postive rate</th>\n",
       "      <th>AUC_training</th>\n",
       "      <th>AUC_test</th>\n",
       "    </tr>\n",
       "  </thead>\n",
       "  <tbody>\n",
       "    <tr>\n",
       "      <th>Logistic regression</th>\n",
       "      <td>0.923077</td>\n",
       "      <td>0.946429</td>\n",
       "      <td>0.0</td>\n",
       "      <td>0.898333</td>\n",
       "      <td>0.874214</td>\n",
       "    </tr>\n",
       "    <tr>\n",
       "      <th>LDA</th>\n",
       "      <td>0.930769</td>\n",
       "      <td>0.964286</td>\n",
       "      <td>0.3</td>\n",
       "      <td>0.935833</td>\n",
       "      <td>0.509434</td>\n",
       "    </tr>\n",
       "    <tr>\n",
       "      <th>k-NN</th>\n",
       "      <td>0.923077</td>\n",
       "      <td>0.946429</td>\n",
       "      <td>0.0</td>\n",
       "      <td>0.879583</td>\n",
       "      <td>0.735849</td>\n",
       "    </tr>\n",
       "    <tr>\n",
       "      <th>Decision Tree</th>\n",
       "      <td>0.953846</td>\n",
       "      <td>0.928571</td>\n",
       "      <td>0.4</td>\n",
       "      <td>0.920833</td>\n",
       "      <td>0.628931</td>\n",
       "    </tr>\n",
       "    <tr>\n",
       "      <th>Random Forest</th>\n",
       "      <td>0.938462</td>\n",
       "      <td>0.946429</td>\n",
       "      <td>0.4</td>\n",
       "      <td>0.966250</td>\n",
       "      <td>0.805031</td>\n",
       "    </tr>\n",
       "    <tr>\n",
       "      <th>Adaboost</th>\n",
       "      <td>0.969231</td>\n",
       "      <td>0.946429</td>\n",
       "      <td>0.6</td>\n",
       "      <td>0.990417</td>\n",
       "      <td>0.880503</td>\n",
       "    </tr>\n",
       "  </tbody>\n",
       "</table>\n",
       "</div>"
      ],
      "text/plain": [
       "                     Training accuracy  Test accuracy  True postive rate  \\\n",
       "Logistic regression           0.923077       0.946429                0.0   \n",
       "LDA                           0.930769       0.964286                0.3   \n",
       "k-NN                          0.923077       0.946429                0.0   \n",
       "Decision Tree                 0.953846       0.928571                0.4   \n",
       "Random Forest                 0.938462       0.946429                0.4   \n",
       "Adaboost                      0.969231       0.946429                0.6   \n",
       "\n",
       "                     AUC_training  AUC_test  \n",
       "Logistic regression      0.898333  0.874214  \n",
       "LDA                      0.935833  0.509434  \n",
       "k-NN                     0.879583  0.735849  \n",
       "Decision Tree            0.920833  0.628931  \n",
       "Random Forest            0.966250  0.805031  \n",
       "Adaboost                 0.990417  0.880503  "
      ]
     },
     "execution_count": 24,
     "metadata": {},
     "output_type": "execute_result"
    }
   ],
   "source": [
    "model = ['Logistic regression','LDA','k-NN','Decision Tree','Random Forest','Adaboost']\n",
    "column = [ 'Training accuracy','Test accuracy','True postive rate','AUC_training','AUC_test']\n",
    "\n",
    "models = pd.DataFrame(index=model, columns=column)\n",
    "models['Training accuracy']=[logistic_acc_train, lda_acc_train,knn_acc_train,dt_acc_train,rf_acc_train,adaboost_acc_train]\n",
    "models['Test accuracy']=[logistic_acc_test, lda_acc_test,knn_acc_test,dt_acc_test,rf_acc_test,adaboost_acc_test]\n",
    "models['True postive rate']=[tpr(cm_log), tpr(cm_lda),tpr(cm_knn),tpr(cm_dt),tpr(cm_rf),tpr(cm_adaboost)]\n",
    "models['AUC_training']=[auc_log, auc_lda,auc_knn,auc_dt,auc_rf,auc_adaboost]\n",
    "models['AUC_test']=[auc_log_test, auc_lda_test,auc_knn_test,auc_dt_test,auc_rf_test,auc_adaboost_test]\n",
    "models\n"
   ]
  },
  {
   "cell_type": "markdown",
   "metadata": {},
   "source": [
    "### ROC curve for adaboost"
   ]
  },
  {
   "cell_type": "code",
   "execution_count": 25,
   "metadata": {},
   "outputs": [
    {
     "data": {
      "image/png": "[encoded data removed]",
      "text/plain": [
       "<matplotlib.figure.Figure at 0x1106c2048>"
      ]
     },
     "metadata": {},
     "output_type": "display_data"
    }
   ],
   "source": [
    "# Display the ROC curve for both the fitted classifier and the all 0's classifier on the test set. \n",
    "fpr1, tpr1, thresholds1 = metrics.roc_curve(y_test, adaboost.predict_proba(x_test)[:,1])\n",
    "fpr2, tpr2, thresholds2 = metrics.roc_curve(y_test, np.zeros(len(y_test)))\n",
    "auc1 = metrics.roc_auc_score(y_test, adaboost.predict_proba(x_test)[:,1])\n",
    "auc2 = metrics.roc_auc_score(y_test, np.zeros(len(y_test)))\n",
    "plt.plot(fpr1, tpr1, '.-', alpha=0.8, label='ROC curve for logistic regression (area = %0.2f)' % (auc1))\n",
    "plt.plot(fpr2, tpr2, '.-', alpha=0.8, label='ROC curve for all 0\\'s classifier (area = %0.2f)' % (auc2))\n",
    "plt.plot([0, 1], [0, 1], 'k--', alpha=0.2)\n",
    "plt.xlim([-0.01, 1.0])\n",
    "plt.ylim([0.0, 1.05])\n",
    "plt.xlabel('False Positive Rate')\n",
    "plt.ylabel('True Positive Rate')\n",
    "plt.title('ROC Curve')\n",
    "plt.legend(loc=\"lower right\");"
   ]
  },
  {
   "cell_type": "code",
   "execution_count": null,
   "metadata": {
    "collapsed": true
   },
   "outputs": [],
   "source": []
  }
 ],
 "metadata": {
  "anaconda-cloud": {},
  "kernelspec": {
   "display_name": "Python 3",
   "language": "python",
   "name": "python3"
  },
  "language_info": {
   "codemirror_mode": {
    "name": "ipython",
    "version": 3
   },
   "file_extension": ".py",
   "mimetype": "text/x-python",
   "name": "python",
   "nbconvert_exporter": "python",
   "pygments_lexer": "ipython3",
   "version": "3.6.3"
  }
 },
 "nbformat": 4,
 "nbformat_minor": 2
}
